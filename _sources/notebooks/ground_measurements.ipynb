{
 "cells": [
  {
   "cell_type": "markdown",
   "metadata": {},
   "source": [
    "# Ground-based solar irradiance data\n",
    "\n",
    "Conducted ground-based solar irradiance measurements is useful for obtaining information on the local solar resource, but also extremely for determining the accuracy of sattelite and reanalysis solar irradiance methods and validating solar radiation models.\n",
    "\n",
    "In this section, the major ground-based solar radiation monitoring network will be introduced and it will be demonstrated how data can be obtained from these sources.\n",
    "\n",
    "\n",
    "***\n",
    "<div style=\"text-align: right\"> <i>Content by Adam R. Jensen</i> </div>"
   ]
  },
  {
   "cell_type": "markdown",
   "metadata": {},
   "source": [
    "## Major radiation station networks\n",
    "\n",
    "There exists a number of ground-based solar radiation monitoring networks, of which most are operated by national weather services or research organizations:\n",
    "\n",
    "* [Baseline Surface Radiation Network - BSRN (global)](https://bsrn.awi.de/)\n",
    "* [SURFRAD by NOAA (US)](https://www.esrl.noaa.gov/gmd/grad/surfrad/)\n",
    "* [SOLRAD by NOAA (US)](https://www.esrl.noaa.gov/gmd/grad/solrad/)\n",
    "* [ESMAP - World Bank ](https://globalsolaratlas.info/solar-measurement)\n",
    "* [SRML by the University of Oregon (Northwestern US)](http://solardat.uoregon.edu/index.html)\n",
    "* [NREL (US)](https://midcdmz.nrel.gov/)\n",
    "* Enermena\n",
    "* SMHI (Sweden)\n",
    "* BoM (Australia)\n",
    "* SAURAN (South Africa)\n",
    "* MeteoSwiss (Switzerland)"
   ]
  }
 ],
 "metadata": {
  "kernelspec": {
   "display_name": "Python 3 (ipykernel)",
   "language": "python",
   "name": "python3"
  },
  "language_info": {
   "codemirror_mode": {
    "name": "ipython",
    "version": 3
   },
   "file_extension": ".py",
   "mimetype": "text/x-python",
   "name": "python",
   "nbconvert_exporter": "python",
   "pygments_lexer": "ipython3",
   "version": "3.7.10"
  }
 },
 "nbformat": 4,
 "nbformat_minor": 4
}

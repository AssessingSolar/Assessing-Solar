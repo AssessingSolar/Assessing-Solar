{
  "cells": [
    {
      "cell_type": "markdown",
      "metadata": {},
      "source": [
        "\n# Time shift\n\nTime shifts in irradiance data is common, e.g., due daylight savings, incorrect\ntimezone, or drift in datalogger timing.\n"
      ]
    },
    {
      "cell_type": "markdown",
      "metadata": {},
      "source": [
        "## Incorrect timezone\nFirst, let's take an existing dataset and purposefully set an incorrect\ntimezone in order to investigate how this can be detected.\n\n"
      ]
    },
    {
      "cell_type": "code",
      "execution_count": null,
      "metadata": {
        "collapsed": false
      },
      "outputs": [],
      "source": [
        "import numpy as np\nimport pandas as pd\nimport matplotlib.pyplot as plt\nimport matplotlib.dates as mdates\nimport pvlib\n# sphinx_gallery_thumbnail_number = 2\n\nfilename = '../notebooks/data/solar_irradiance_dtu_2019_extended.csv'\ndf = pd.read_csv(filename, index_col=0, parse_dates=True)\n\n# Remove timezone information\ndf = df.tz_convert(None)\n\n# Set incorrect timezone\ndf = df.tz_localize('Etc/GMT-4', ambiguous='NaT', nonexistent='NaT')\n\n# Calculate solar position using pvlib\nlocation = pvlib.location.Location(latitude=55.7906, longitude=12.5253)\nsolpos = location.get_solarposition(df.index)\ndf['zenith'] = solpos['apparent_zenith']\n\n# Calculate Global Horizontal Irradiance (GHI) from Diffuse Horizontal\n# Irradiance (DHI) and Direct Normal Irradiance (DNI) using the closure\n# equation.\ndf['ghi_calc'] = df['dhi'] + df['dni']*np.cos(np.deg2rad(df['zenith']))\n\n# Compare the calculated and measured GHI:\ndf.plot.scatter(x='ghi', y='ghi_calc', s=0.1, alpha=0.1, grid=True)\nplt.show()"
      ]
    },
    {
      "cell_type": "markdown",
      "metadata": {},
      "source": [
        "In the above plot the measured and calculated GHI should ideally lie on a\nstright line. Clearly this is not the case, but rather there are distinct\noval features, which is a common indication that the timezone is incorrect.\n\n"
      ]
    },
    {
      "cell_type": "markdown",
      "metadata": {},
      "source": [
        "## 2-D heat map visualization\nAnother very useful way of detecting time offset is to visualize the\nirradiance data using a heat map with the hour of day on the y-axis and the\ndate on the x-axis.\n\n"
      ]
    },
    {
      "cell_type": "code",
      "execution_count": null,
      "metadata": {
        "collapsed": false
      },
      "outputs": [],
      "source": [
        "# Calculate sunrise/sunset for the entire period\ndays = pd.date_range(df.index[0], df.index[-1])\nsunrise_sunset = location.get_sun_rise_set_transit(days)\n\n# Convert sunrise/sunset from datetime to decimal hours\nsunrise_sunset['sunrise'] = sunrise_sunset['sunrise'].dt.hour + \\\n    sunrise_sunset['sunrise'].dt.minute/60\nsunrise_sunset['sunset'] = sunrise_sunset['sunset'].dt.hour + \\\n    sunrise_sunset['sunset'].dt.minute/60\n\ndf['hourofday'] = df.index.hour + df.index.minute/60\n\n# Create dataframe with rows corresponding to days and columns to hours\ndf_2d = df[['ghi']].set_index([df.index.date, df.hourofday]).unstack(level=0)\n\n# Calculate the extents of the 2D plot [x_start, x_end, y_start, y_end]\nxlims = mdates.date2num([df.index[0].date(), df.index[-1].date()])\nextent = [xlims[0], xlims[1], 0, 24]\n\n# Plot heat map\nfig, ax = plt.subplots()\nim = ax.imshow(df_2d['ghi'],  aspect='auto', origin='lower', cmap='jet',\n               extent=extent, vmin=0, vmax=1000)\n\n# Plot sunrise and sunset\nax.plot(mdates.date2num(sunrise_sunset.index),\n        sunrise_sunset[['sunrise', 'sunset']].to_numpy(),\n        c='r', linestyle='--', lw=2)\n\n# Add colorbar\ncbar = fig.colorbar(im, ax=ax, orientation='vertical', pad=0.01, label='GHI [W/m$^2$]')\n\n# Format plot\nax.set_xlim(xlims)\nax.set_yticks([0, 6, 12, 18, 24])\nax.set_ylabel('Time of day [h]')\nax.set_facecolor('grey')\nax.xaxis_date()\nax.xaxis.set_major_formatter(mdates.DateFormatter('%b'))\n\nplt.show()"
      ]
    },
    {
      "cell_type": "markdown",
      "metadata": {},
      "source": [
        "In the above heat map the red lines represents sunrise and sunset times. It\ncan be noted that the non-zero irradiance values are not all contained\nwithin the daytime period (between sunrise and sunset). This, is a clear\nindication that there is a timezone offset. Shifts in time due to daylight\nsavings can also be detected using this method.\n\n"
      ]
    }
  ],
  "metadata": {
    "kernelspec": {
      "display_name": "Python 3",
      "language": "python",
      "name": "python3"
    },
    "language_info": {
      "codemirror_mode": {
        "name": "ipython",
        "version": 3
      },
      "file_extension": ".py",
      "mimetype": "text/x-python",
      "name": "python",
      "nbconvert_exporter": "python",
      "pygments_lexer": "ipython3",
      "version": "3.7.16"
    }
  },
  "nbformat": 4,
  "nbformat_minor": 0
}
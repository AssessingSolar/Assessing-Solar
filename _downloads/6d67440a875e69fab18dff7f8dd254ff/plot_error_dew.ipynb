{
  "cells": [
    {
      "cell_type": "code",
      "execution_count": null,
      "metadata": {
        "collapsed": false
      },
      "outputs": [],
      "source": [
        "%matplotlib inline"
      ]
    },
    {
      "cell_type": "markdown",
      "metadata": {},
      "source": [
        "\n# Dew on radiometers\n\nDew on radiometers cause a deviation of the measured irradiance compared to\nthe true value.\n"
      ]
    },
    {
      "cell_type": "markdown",
      "metadata": {},
      "source": [
        "This issue is most often observed during the morning on cold days for\nunventilated and unheated pyranometers.\n\nThe issue of dew on pyranometers is illustrated in the image below, which\nshows a shaded pyranometer with dew and unshaded pyranometer without dew. The\nphoto was taken at the DTU Climate Station in Copenhagen (January 12th 2021).\n\nThe reason that dew remained on the unshaded pyranometer is that the direct\nirradiance on the unshaded pyranometer had caused the dew to evaporate\nalthough this process is not instantaneous and the unshaded pyranometer also\nhad been affected earlier in the day.\n\n<img src=\"file://../graphics/dew_pyranometers_dtu_20210112.jpg\" alt=\"Image of two pyranometers, one with dew and one without.\" width=\"400\">\n\n## Impact of dew\nLet's take a look at some irradiance measuremens from DTU's Climate Station\nand see if we can observe this phenomenon.\n\n"
      ]
    },
    {
      "cell_type": "code",
      "execution_count": null,
      "metadata": {
        "collapsed": false
      },
      "outputs": [],
      "source": [
        "import numpy as np\nimport pandas as pd\nimport matplotlib.pyplot as plt\nimport pvlib\n# sphinx_gallery_thumbnail_number = 2\n\nfilename = '../notebooks/data/solar_irradiance_dtu_2019_extended.csv'\ndf = pd.read_csv(filename, index_col=0, parse_dates=True)\n\n# Calculate Global Horizontal Irradiance (GHI) from Diffuse Horizontal\n# Irradiance (DHI) and Direct Normal Irradiance (DNI) using the closure\n# equation.\ndf['ghi_calc'] = df['dhi'] + df['dni']*np.cos(np.deg2rad(df['zenith']))\ndf['is_daytime'] = df['zenith'] < 90\ndf['hourofday'] = df.index.hour\n\n# Compare the calculated and measured GHI:\ndf.plot.scatter(x='ghi', y='ghi_calc', s=1, alpha=0.5, grid=True)\nplt.show()"
      ]
    },
    {
      "cell_type": "markdown",
      "metadata": {},
      "source": [
        "Zooming in at the low irradiance region, it is possible to detect swirling\nlines, where measured GHI is initially higher than the calculated GHI and\nthen the reverse occurs.\n\n"
      ]
    },
    {
      "cell_type": "code",
      "execution_count": null,
      "metadata": {
        "collapsed": false
      },
      "outputs": [],
      "source": [
        "df[df['is_daytime']].plot.scatter(x='ghi', y='ghi_calc', s=1, alpha=0.5,\n                                  grid=True, xlim=(-10, 400), ylim=(-10, 400))\nplt.show()"
      ]
    },
    {
      "cell_type": "markdown",
      "metadata": {},
      "source": [
        "For a closer inspection of the data, let's find a specific day where this\nphenomenon is pronounced. As an example we'll look at May 11th 2019.\n\n"
      ]
    },
    {
      "cell_type": "code",
      "execution_count": null,
      "metadata": {
        "collapsed": false
      },
      "outputs": [],
      "source": [
        "df['2019-05-11 03':'2019-05-11 20'].plot.scatter(\n    x='ghi', y='ghi_calc', s=1, grid=True, c='hourofday', cmap='plasma',\n    sharex=False)\nplt.show()"
      ]
    },
    {
      "cell_type": "markdown",
      "metadata": {},
      "source": [
        "From the above plot, it's clear that this phenomenon occurs in the morning.\nLet's see if we also can see the issue in the raw measurements for the same\nday:\n\n"
      ]
    },
    {
      "cell_type": "code",
      "execution_count": null,
      "metadata": {
        "collapsed": false
      },
      "outputs": [],
      "source": [
        "df.loc['2019-05-11 03':'2019-05-11 20',\n       ['dni', 'ghi_calc', 'ghi', 'dhi']].plot(grid=True, alpha=0.5)\nplt.show()"
      ]
    },
    {
      "cell_type": "markdown",
      "metadata": {},
      "source": [
        "The wobbly nature of the GHI measurements is clearly not realistic but is\ncaused by dew. In the beginning of the morning the measured GHI is reduced\nbut then as the dew evaporates, more irradiance is focused onto the GHI\nsensors and consequently the measured irradiance is overestimated.\n\n"
      ]
    },
    {
      "cell_type": "markdown",
      "metadata": {},
      "source": [
        "Let's attempt to see if we can detect the dewy periods using a traditional\nKd vs. Kt plot. This type of plot is commonly used in quality assessment\nof irradiance measurements.\n\n"
      ]
    },
    {
      "cell_type": "code",
      "execution_count": null,
      "metadata": {
        "collapsed": false
      },
      "outputs": [],
      "source": [
        "df['Kd'] = df['dhi'] / df['ghi']\ndf['dni_extra'] = pvlib.irradiance.get_extra_radiation(df.index)\ndf['ghi_extra'] = df['dni_extra'] * np.cos(np.deg2rad(df['zenith']))\ndf['Kt'] = df['ghi'] / df['ghi_extra']\n\ndf['2019-05-11 03':'2019-05-11 20'].plot.scatter(\n    x='Kt', y='Kd', grid=True, xlim=(0, 1.1), ylim=(0, 1.1), s=5,\n    c='hourofday', cmap='plasma', sharex=False)\nplt.show()"
      ]
    },
    {
      "cell_type": "markdown",
      "metadata": {},
      "source": [
        "The irradiance measurements affected by dew are within the zone of valid\ndata, thus this type of plot does not seem to be useful for detecting periods\nwith dew.\n\n"
      ]
    },
    {
      "cell_type": "markdown",
      "metadata": {},
      "source": [
        "## Pyrheliometers\nPyrheliometers are much less affected by dew due to their smaller view of the\nsky hemisphere. The rain shield, which is typically mounted on the front of\na pyrheliometer, also helps reduce the long-wave radiation exchange with the\nsky. Additionally, when there is direct irradiance, the dew on a\npyrheliometer is typically evaporated faster than on a pyranometer.\nIn short, dew is less common on pyrheliometers although it can be observed.\n\n"
      ]
    }
  ],
  "metadata": {
    "kernelspec": {
      "display_name": "Python 3",
      "language": "python",
      "name": "python3"
    },
    "language_info": {
      "codemirror_mode": {
        "name": "ipython",
        "version": 3
      },
      "file_extension": ".py",
      "mimetype": "text/x-python",
      "name": "python",
      "nbconvert_exporter": "python",
      "pygments_lexer": "ipython3",
      "version": "3.7.16"
    }
  },
  "nbformat": 4,
  "nbformat_minor": 0
}
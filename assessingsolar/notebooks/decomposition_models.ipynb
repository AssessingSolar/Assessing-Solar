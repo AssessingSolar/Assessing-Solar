{
 "cells": [
  {
   "cell_type": "markdown",
   "metadata": {},
   "source": [
    "# Solar Decomposition Models\n",
    "\n",
    "Knowing the direct or beam normal irradiance (DNI) is useful for many solar and energy applications, e.g., calculating the yield of solar concetrating power systems or determining the irradiance on an inclined surface. However, often only global horizontal irradiance (GHI) is available, as it is much cheaper to measure than the individual components and most satelitte radiation models only calculate GHI. Many applications, therefore, require applying **solar radiation decomposition models** to obtain the direct beam irradiance. The majority of decomposition models work by applying an empirical correlations between GHI, diffuse horizontal irradiance (DHI) and DNI. In this section, we present the implementation in Python of several solar decomposition models. \n",
    "\n",
    "***\n",
    "<div style=\"text-align: right\"> <i>Content by Javier Lopez Lorente and Adam R. Jensen</i> </div>\n"
   ]
  },
  {
   "cell_type": "markdown",
   "metadata": {},
   "source": [
    "## The role of solar decomposition models\n",
    "\n",
    "Solar decomposition models are some of the most frequently used algorithms, and are often used during the first part of a larger analysis. As described earlier, decomposition models permit estimating the beam or direct normal irradiance (DNI) from GHI measurements, often using relationships between the clearness index ($k_t$) and the diffuse fraction of solar irradiance ($k_d$). The clearness index is defined as:\n",
    "\n",
    "$$ k_t = \\frac{GHI}{E_a \\cdot cos(\\theta_Z)}$$\n",
    "\n",
    "where $E_a$ is the extraterrestrial irradiance, and $\\theta_Z$ is the solar zenith angle. \n",
    "\n",
    "The diffuse fraction is defined as: \n",
    "\n",
    "$$ k_d = \\frac{DHI}{GHI} $$\n",
    "\n",
    "The role of decomposition models can be graphically illustrated in the diagram below:\n",
    "\n",
    "```{image} ../notebooks/graphics/decomposition_models.png\n",
    ":alt: decomposition_flowchart\n",
    ":class: bg-white mb-1\n",
    ":width: 500px\n",
    ":align: center\n",
    "```\n"
   ]
  },
  {
   "cell_type": "markdown",
   "metadata": {},
   "source": [
    "Multiple models have been proposed for the decomposition of global horizontal radiation/irradiance into its direct normal and diffuse horizontal components in the scientific literature. Below, the implementation in Python of some of these methods will be shown. The following methods will be modelled and compared:\n",
    "- DISC model (Maxwell, 1987)\n",
    "- DIRINT model (Pérez et al., 1992)\n",
    "- Erbs model (Erbs et al., 1982) \n",
    "\n",
    "The three decomposition models, among some others, are implemented in the open-source library [pvlib python](https://pvlib-python.readthedocs.io/en/stable/api.html#dni-estimation-models).\n",
    "\n",
    "Before applying the models in practice, an example irradiance data set will be retrieved."
   ]
  },
  {
   "cell_type": "markdown",
   "metadata": {},
   "source": [
    "## Data preparation\n",
    "\n",
    "To illustrate the implementation of each of these models, we will use real irradiance observations. The decomposition models will be used to calculate DNI and DIh from measured GHI, and the results will then be compared to measurements of DNI and DHI. The first step is getting and preparing the measurement data to be used."
   ]
  },
  {
   "cell_type": "code",
   "execution_count": 22,
   "metadata": {},
   "outputs": [],
   "source": [
    "# Import all the necessary libraries\n",
    "import numpy as np\n",
    "import pandas as pd\n",
    "import matplotlib.pyplot as plt\n",
    "import pvlib"
   ]
  },
  {
   "cell_type": "markdown",
   "metadata": {},
   "source": [
    "### Retrieving weather data\n",
    "\n",
    "The irradiance data used is from the [BSRN](https://bsrn.awi.de/) Cabauw station operated by the Royal Netherlands Meteorological Institute (KNMI). The data is retrieved from the BSRN FTP server using the `get_bsrn` function from pvlib-python. The Cabauw station is located at latitude 51.9711° and longitude 4.9267°, at an elevation of 0 m AMSL. The data used are 1-minute global, direct, and diffuse irradiance measurements for July 2021."
   ]
  },
  {
   "cell_type": "code",
   "execution_count": 23,
   "metadata": {
    "tags": [
     "remove-cell"
    ]
   },
   "outputs": [],
   "source": [
    "# Load the BSRN credentials from the Secret environment variables\n",
    "# This cell is hidden in the displayed notebook\n",
    "import os\n",
    "#bsrn_username = os.environ[\"BSRN_FTP_USERNAME\"]\n",
    "#bsrn_password = os.environ[\"BSRN_FTP_PASSWORD\"]\n",
    "bsrn_username = 'bsrnftp'\n",
    "bsrn_password = 'bsrn1'"
   ]
  },
  {
   "cell_type": "code",
   "execution_count": 25,
   "metadata": {},
   "outputs": [
    {
     "data": {
      "text/html": [
       "<div>\n",
       "<style scoped>\n",
       "    .dataframe tbody tr th:only-of-type {\n",
       "        vertical-align: middle;\n",
       "    }\n",
       "\n",
       "    .dataframe tbody tr th {\n",
       "        vertical-align: top;\n",
       "    }\n",
       "\n",
       "    .dataframe thead th {\n",
       "        text-align: right;\n",
       "    }\n",
       "</style>\n",
       "<table border=\"1\" class=\"dataframe\">\n",
       "  <thead>\n",
       "    <tr style=\"text-align: right;\">\n",
       "      <th></th>\n",
       "      <th>ghi</th>\n",
       "      <th>ghi_std</th>\n",
       "      <th>ghi_min</th>\n",
       "      <th>ghi_max</th>\n",
       "      <th>dni</th>\n",
       "      <th>dni_std</th>\n",
       "      <th>dni_min</th>\n",
       "      <th>dni_max</th>\n",
       "      <th>dhi</th>\n",
       "      <th>dhi_std</th>\n",
       "      <th>dhi_min</th>\n",
       "      <th>dhi_max</th>\n",
       "      <th>lwd</th>\n",
       "      <th>lwd_std</th>\n",
       "      <th>lwd_min</th>\n",
       "      <th>lwd_max</th>\n",
       "      <th>temp_air</th>\n",
       "      <th>relative_humidity</th>\n",
       "      <th>pressure</th>\n",
       "    </tr>\n",
       "  </thead>\n",
       "  <tbody>\n",
       "    <tr>\n",
       "      <th>2021-07-01 00:00:00+00:00</th>\n",
       "      <td>0.000000</td>\n",
       "      <td>0.081667</td>\n",
       "      <td>-0.066667</td>\n",
       "      <td>0.000000</td>\n",
       "      <td>1.0</td>\n",
       "      <td>0.001667</td>\n",
       "      <td>1.000000</td>\n",
       "      <td>1.0</td>\n",
       "      <td>-0.100000</td>\n",
       "      <td>0.058333</td>\n",
       "      <td>-0.566667</td>\n",
       "      <td>-0.033333</td>\n",
       "      <td>371.750000</td>\n",
       "      <td>0.088333</td>\n",
       "      <td>371.666667</td>\n",
       "      <td>371.866667</td>\n",
       "      <td>13.496667</td>\n",
       "      <td>94.756667</td>\n",
       "      <td>1015.000000</td>\n",
       "    </tr>\n",
       "    <tr>\n",
       "      <th>2021-07-01 01:00:00+00:00</th>\n",
       "      <td>-0.300000</td>\n",
       "      <td>0.066667</td>\n",
       "      <td>-0.316667</td>\n",
       "      <td>-0.216667</td>\n",
       "      <td>1.0</td>\n",
       "      <td>0.011667</td>\n",
       "      <td>1.000000</td>\n",
       "      <td>1.0</td>\n",
       "      <td>-0.383333</td>\n",
       "      <td>0.075000</td>\n",
       "      <td>-0.583333</td>\n",
       "      <td>-0.333333</td>\n",
       "      <td>371.133333</td>\n",
       "      <td>0.091667</td>\n",
       "      <td>371.000000</td>\n",
       "      <td>371.333333</td>\n",
       "      <td>13.253333</td>\n",
       "      <td>91.963333</td>\n",
       "      <td>1014.800000</td>\n",
       "    </tr>\n",
       "    <tr>\n",
       "      <th>2021-07-01 02:00:00+00:00</th>\n",
       "      <td>0.000000</td>\n",
       "      <td>0.073333</td>\n",
       "      <td>-0.050000</td>\n",
       "      <td>0.000000</td>\n",
       "      <td>1.0</td>\n",
       "      <td>0.003333</td>\n",
       "      <td>1.000000</td>\n",
       "      <td>1.0</td>\n",
       "      <td>-0.150000</td>\n",
       "      <td>0.053333</td>\n",
       "      <td>-0.733333</td>\n",
       "      <td>-0.033333</td>\n",
       "      <td>370.583333</td>\n",
       "      <td>0.101667</td>\n",
       "      <td>370.533333</td>\n",
       "      <td>370.666667</td>\n",
       "      <td>13.185000</td>\n",
       "      <td>88.803333</td>\n",
       "      <td>1014.683333</td>\n",
       "    </tr>\n",
       "    <tr>\n",
       "      <th>2021-07-01 03:00:00+00:00</th>\n",
       "      <td>1.633333</td>\n",
       "      <td>0.095000</td>\n",
       "      <td>1.533333</td>\n",
       "      <td>1.750000</td>\n",
       "      <td>1.0</td>\n",
       "      <td>0.006667</td>\n",
       "      <td>1.000000</td>\n",
       "      <td>1.0</td>\n",
       "      <td>1.516667</td>\n",
       "      <td>0.081667</td>\n",
       "      <td>1.466667</td>\n",
       "      <td>1.566667</td>\n",
       "      <td>370.300000</td>\n",
       "      <td>0.105000</td>\n",
       "      <td>370.116667</td>\n",
       "      <td>370.533333</td>\n",
       "      <td>13.091667</td>\n",
       "      <td>90.606667</td>\n",
       "      <td>1014.150000</td>\n",
       "    </tr>\n",
       "    <tr>\n",
       "      <th>2021-07-01 04:00:00+00:00</th>\n",
       "      <td>18.600000</td>\n",
       "      <td>0.298333</td>\n",
       "      <td>18.133333</td>\n",
       "      <td>19.283333</td>\n",
       "      <td>1.0</td>\n",
       "      <td>0.011667</td>\n",
       "      <td>0.933333</td>\n",
       "      <td>1.0</td>\n",
       "      <td>18.533333</td>\n",
       "      <td>0.295000</td>\n",
       "      <td>18.083333</td>\n",
       "      <td>19.050000</td>\n",
       "      <td>372.750000</td>\n",
       "      <td>0.145000</td>\n",
       "      <td>372.516667</td>\n",
       "      <td>373.083333</td>\n",
       "      <td>13.050000</td>\n",
       "      <td>93.396667</td>\n",
       "      <td>1014.916667</td>\n",
       "    </tr>\n",
       "  </tbody>\n",
       "</table>\n",
       "</div>"
      ],
      "text/plain": [
       "                                 ghi   ghi_std    ghi_min    ghi_max  dni  \\\n",
       "2021-07-01 00:00:00+00:00   0.000000  0.081667  -0.066667   0.000000  1.0   \n",
       "2021-07-01 01:00:00+00:00  -0.300000  0.066667  -0.316667  -0.216667  1.0   \n",
       "2021-07-01 02:00:00+00:00   0.000000  0.073333  -0.050000   0.000000  1.0   \n",
       "2021-07-01 03:00:00+00:00   1.633333  0.095000   1.533333   1.750000  1.0   \n",
       "2021-07-01 04:00:00+00:00  18.600000  0.298333  18.133333  19.283333  1.0   \n",
       "\n",
       "                            dni_std   dni_min  dni_max        dhi   dhi_std  \\\n",
       "2021-07-01 00:00:00+00:00  0.001667  1.000000      1.0  -0.100000  0.058333   \n",
       "2021-07-01 01:00:00+00:00  0.011667  1.000000      1.0  -0.383333  0.075000   \n",
       "2021-07-01 02:00:00+00:00  0.003333  1.000000      1.0  -0.150000  0.053333   \n",
       "2021-07-01 03:00:00+00:00  0.006667  1.000000      1.0   1.516667  0.081667   \n",
       "2021-07-01 04:00:00+00:00  0.011667  0.933333      1.0  18.533333  0.295000   \n",
       "\n",
       "                             dhi_min    dhi_max         lwd   lwd_std  \\\n",
       "2021-07-01 00:00:00+00:00  -0.566667  -0.033333  371.750000  0.088333   \n",
       "2021-07-01 01:00:00+00:00  -0.583333  -0.333333  371.133333  0.091667   \n",
       "2021-07-01 02:00:00+00:00  -0.733333  -0.033333  370.583333  0.101667   \n",
       "2021-07-01 03:00:00+00:00   1.466667   1.566667  370.300000  0.105000   \n",
       "2021-07-01 04:00:00+00:00  18.083333  19.050000  372.750000  0.145000   \n",
       "\n",
       "                              lwd_min     lwd_max   temp_air  \\\n",
       "2021-07-01 00:00:00+00:00  371.666667  371.866667  13.496667   \n",
       "2021-07-01 01:00:00+00:00  371.000000  371.333333  13.253333   \n",
       "2021-07-01 02:00:00+00:00  370.533333  370.666667  13.185000   \n",
       "2021-07-01 03:00:00+00:00  370.116667  370.533333  13.091667   \n",
       "2021-07-01 04:00:00+00:00  372.516667  373.083333  13.050000   \n",
       "\n",
       "                           relative_humidity     pressure  \n",
       "2021-07-01 00:00:00+00:00          94.756667  1015.000000  \n",
       "2021-07-01 01:00:00+00:00          91.963333  1014.800000  \n",
       "2021-07-01 02:00:00+00:00          88.803333  1014.683333  \n",
       "2021-07-01 03:00:00+00:00          90.606667  1014.150000  \n",
       "2021-07-01 04:00:00+00:00          93.396667  1014.916667  "
      ]
     },
     "execution_count": 25,
     "metadata": {},
     "output_type": "execute_result"
    }
   ],
   "source": [
    "# Retrieving the measurement data\n",
    "df, meta = pvlib.iotools.get_bsrn(\n",
    "    station='CAB',\n",
    "    start=pd.Timestamp('2021-07-01'),\n",
    "    end=pd.Timestamp('2021-07-01'),\n",
    "    username=bsrn_username,\n",
    "    password=bsrn_password)\n",
    "\n",
    "# Resample the 1-minute data to hourly\n",
    "df = df.resample('1h').mean()\n",
    "\n",
    "# Display the first five rows of the dataset\n",
    "df.head()"
   ]
  },
  {
   "cell_type": "markdown",
   "metadata": {},
   "source": [
    "Besides GHI, DNI and DHI, this station has additional weather-related variables available (e.g., air temperature, humidity, and wind speed), as well as sensor-specific data. The details of the sensors and measurements available in each station can be found under the section \"Instrument history and meta data\" of each MIDC's station webpage. \n",
    "\n",
    "Let's list the variables available and then subset those that we will use in this example:"
   ]
  },
  {
   "cell_type": "code",
   "execution_count": 4,
   "metadata": {},
   "outputs": [
    {
     "data": {
      "text/plain": [
       "Index(['ghi', 'ghi_std', 'ghi_min', 'ghi_max', 'dni', 'dni_std', 'dni_min',\n",
       "       'dni_max', 'dhi', 'dhi_std', 'dhi_min', 'dhi_max', 'lwd', 'lwd_std',\n",
       "       'lwd_min', 'lwd_max', 'temp_air', 'relative_humidity', 'pressure'],\n",
       "      dtype='object')"
      ]
     },
     "execution_count": 4,
     "metadata": {},
     "output_type": "execute_result"
    }
   ],
   "source": [
    "# Visualize variables avilable\n",
    "df.columns"
   ]
  },
  {
   "cell_type": "markdown",
   "metadata": {},
   "source": [
    "it is often helpful to visuaize the data, in order to check that the measurements are as expected. For example, a plot for a single day (18th July 2021):"
   ]
  },
  {
   "cell_type": "code",
   "execution_count": 26,
   "metadata": {},
   "outputs": [
    {
     "data": {
      "text/plain": [
       "<matplotlib.legend.Legend at 0x114e58b2fd0>"
      ]
     },
     "execution_count": 26,
     "metadata": {},
     "output_type": "execute_result"
    },
    {
     "data": {
      "image/png": "[encoded data removed]",
      "text/plain": [
       "<Figure size 432x288 with 1 Axes>"
      ]
     },
     "metadata": {
      "needs_background": "light"
     },
     "output_type": "display_data"
    }
   ],
   "source": [
    "df.loc['2021-07-18', ['ghi','dhi','dni']].plot()\n",
    "plt.title('Solar irradiance components, 18th July 2021')\n",
    "plt.ylabel('Irradiance [W/m$^2$]')\n",
    "plt.legend()"
   ]
  },
  {
   "cell_type": "markdown",
   "metadata": {},
   "source": [
    "For an overall representation of the data, it's useful to inspect the the key statistical metrics for the data:"
   ]
  },
  {
   "cell_type": "code",
   "execution_count": 27,
   "metadata": {},
   "outputs": [
    {
     "data": {
      "text/html": [
       "<div>\n",
       "<style scoped>\n",
       "    .dataframe tbody tr th:only-of-type {\n",
       "        vertical-align: middle;\n",
       "    }\n",
       "\n",
       "    .dataframe tbody tr th {\n",
       "        vertical-align: top;\n",
       "    }\n",
       "\n",
       "    .dataframe thead th {\n",
       "        text-align: right;\n",
       "    }\n",
       "</style>\n",
       "<table border=\"1\" class=\"dataframe\">\n",
       "  <thead>\n",
       "    <tr style=\"text-align: right;\">\n",
       "      <th></th>\n",
       "      <th>ghi</th>\n",
       "      <th>dni</th>\n",
       "      <th>dhi</th>\n",
       "      <th>temp_air</th>\n",
       "      <th>relative_humidity</th>\n",
       "      <th>pressure</th>\n",
       "    </tr>\n",
       "  </thead>\n",
       "  <tbody>\n",
       "    <tr>\n",
       "      <th>count</th>\n",
       "      <td>744.000000</td>\n",
       "      <td>744.000000</td>\n",
       "      <td>744.000000</td>\n",
       "      <td>744.000000</td>\n",
       "      <td>744.000000</td>\n",
       "      <td>744.000000</td>\n",
       "    </tr>\n",
       "    <tr>\n",
       "      <th>mean</th>\n",
       "      <td>202.480422</td>\n",
       "      <td>138.395231</td>\n",
       "      <td>116.982810</td>\n",
       "      <td>17.854637</td>\n",
       "      <td>82.072552</td>\n",
       "      <td>1014.696438</td>\n",
       "    </tr>\n",
       "    <tr>\n",
       "      <th>std</th>\n",
       "      <td>246.797927</td>\n",
       "      <td>232.219321</td>\n",
       "      <td>131.685652</td>\n",
       "      <td>2.838482</td>\n",
       "      <td>13.726766</td>\n",
       "      <td>6.274412</td>\n",
       "    </tr>\n",
       "    <tr>\n",
       "      <th>min</th>\n",
       "      <td>-1.616667</td>\n",
       "      <td>0.016667</td>\n",
       "      <td>-1.250000</td>\n",
       "      <td>11.378333</td>\n",
       "      <td>42.376667</td>\n",
       "      <td>1000.783333</td>\n",
       "    </tr>\n",
       "    <tr>\n",
       "      <th>25%</th>\n",
       "      <td>-0.358333</td>\n",
       "      <td>1.000000</td>\n",
       "      <td>-0.220833</td>\n",
       "      <td>15.839167</td>\n",
       "      <td>71.942500</td>\n",
       "      <td>1009.000000</td>\n",
       "    </tr>\n",
       "    <tr>\n",
       "      <th>50%</th>\n",
       "      <td>97.341667</td>\n",
       "      <td>1.975000</td>\n",
       "      <td>72.108333</td>\n",
       "      <td>17.556667</td>\n",
       "      <td>85.485000</td>\n",
       "      <td>1014.075000</td>\n",
       "    </tr>\n",
       "    <tr>\n",
       "      <th>75%</th>\n",
       "      <td>358.691667</td>\n",
       "      <td>176.204167</td>\n",
       "      <td>202.495833</td>\n",
       "      <td>19.829167</td>\n",
       "      <td>93.760833</td>\n",
       "      <td>1021.000000</td>\n",
       "    </tr>\n",
       "    <tr>\n",
       "      <th>max</th>\n",
       "      <td>890.366667</td>\n",
       "      <td>857.200000</td>\n",
       "      <td>518.416667</td>\n",
       "      <td>25.615000</td>\n",
       "      <td>100.000000</td>\n",
       "      <td>1027.000000</td>\n",
       "    </tr>\n",
       "  </tbody>\n",
       "</table>\n",
       "</div>"
      ],
      "text/plain": [
       "              ghi         dni         dhi    temp_air  relative_humidity  \\\n",
       "count  744.000000  744.000000  744.000000  744.000000         744.000000   \n",
       "mean   202.480422  138.395231  116.982810   17.854637          82.072552   \n",
       "std    246.797927  232.219321  131.685652    2.838482          13.726766   \n",
       "min     -1.616667    0.016667   -1.250000   11.378333          42.376667   \n",
       "25%     -0.358333    1.000000   -0.220833   15.839167          71.942500   \n",
       "50%     97.341667    1.975000   72.108333   17.556667          85.485000   \n",
       "75%    358.691667  176.204167  202.495833   19.829167          93.760833   \n",
       "max    890.366667  857.200000  518.416667   25.615000         100.000000   \n",
       "\n",
       "          pressure  \n",
       "count   744.000000  \n",
       "mean   1014.696438  \n",
       "std       6.274412  \n",
       "min    1000.783333  \n",
       "25%    1009.000000  \n",
       "50%    1014.075000  \n",
       "75%    1021.000000  \n",
       "max    1027.000000  "
      ]
     },
     "execution_count": 27,
     "metadata": {},
     "output_type": "execute_result"
    }
   ],
   "source": [
    "df[['ghi','dni','dhi', 'temp_air', 'relative_humidity', 'pressure']].describe()"
   ]
  },
  {
   "cell_type": "markdown",
   "metadata": {},
   "source": [
    "**Estimating other input variables:**\n",
    "\n",
    "The 3 solar decomposition models that we will implement in this section (i.e., DISC, DIRINT and Erbs models) have different inputs to be implemented. **Solar position data** is a common input for the 3 models. The DISC and DIRINT models accept as a possible input the **dew (wet-bulb) temperature** ($T_d$). This variable is not directly available from our weather observations; however, it can be easily estimated using a simple conversion that has relative humidity ($RH$) and the ambient temperature ($T_a$) as input. This simple approximation is given by the equation below (Lawrence, 2005):\n",
    "\n",
    " $$ T_{d} = T_a (^{\\circ} C) - \\frac{100-RH (\\%)}{5} $$\n",
    " \n",
    "In Python, this equation could be implemented as follows:"
   ]
  },
  {
   "cell_type": "code",
   "execution_count": 7,
   "metadata": {},
   "outputs": [],
   "source": [
    "df['temp_dew'] = df['temp_air']-((100-df['relative_humidity'])/5)"
   ]
  },
  {
   "cell_type": "markdown",
   "metadata": {},
   "source": [
    "<br>\n",
    "\n",
    "The solar position for the entire period can be calculated using the `pvlib.solarposition.get_solarposition` function which supports a number of different solar position algorithms. The default algorithm is an implementation of the NREL SPA algorithm."
   ]
  },
  {
   "cell_type": "code",
   "execution_count": 8,
   "metadata": {},
   "outputs": [
    {
     "data": {
      "text/html": [
       "<div>\n",
       "<style scoped>\n",
       "    .dataframe tbody tr th:only-of-type {\n",
       "        vertical-align: middle;\n",
       "    }\n",
       "\n",
       "    .dataframe tbody tr th {\n",
       "        vertical-align: top;\n",
       "    }\n",
       "\n",
       "    .dataframe thead th {\n",
       "        text-align: right;\n",
       "    }\n",
       "</style>\n",
       "<table border=\"1\" class=\"dataframe\">\n",
       "  <thead>\n",
       "    <tr style=\"text-align: right;\">\n",
       "      <th></th>\n",
       "      <th>apparent_zenith</th>\n",
       "      <th>zenith</th>\n",
       "      <th>apparent_elevation</th>\n",
       "      <th>elevation</th>\n",
       "      <th>azimuth</th>\n",
       "      <th>equation_of_time</th>\n",
       "    </tr>\n",
       "  </thead>\n",
       "  <tbody>\n",
       "    <tr>\n",
       "      <th>2021-07-01 00:00:00+00:00</th>\n",
       "      <td>104.846052</td>\n",
       "      <td>104.846052</td>\n",
       "      <td>-14.846052</td>\n",
       "      <td>-14.846052</td>\n",
       "      <td>3.778868</td>\n",
       "      <td>-3.817087</td>\n",
       "    </tr>\n",
       "    <tr>\n",
       "      <th>2021-07-01 01:00:00+00:00</th>\n",
       "      <td>103.112107</td>\n",
       "      <td>103.112107</td>\n",
       "      <td>-13.112107</td>\n",
       "      <td>-13.112107</td>\n",
       "      <td>17.878551</td>\n",
       "      <td>-3.825129</td>\n",
       "    </tr>\n",
       "    <tr>\n",
       "      <th>2021-07-01 02:00:00+00:00</th>\n",
       "      <td>99.263802</td>\n",
       "      <td>99.263802</td>\n",
       "      <td>-9.263802</td>\n",
       "      <td>-9.263802</td>\n",
       "      <td>31.380446</td>\n",
       "      <td>-3.833164</td>\n",
       "    </tr>\n",
       "    <tr>\n",
       "      <th>2021-07-01 03:00:00+00:00</th>\n",
       "      <td>93.616677</td>\n",
       "      <td>93.616677</td>\n",
       "      <td>-3.616677</td>\n",
       "      <td>-3.616677</td>\n",
       "      <td>44.046233</td>\n",
       "      <td>-3.841192</td>\n",
       "    </tr>\n",
       "    <tr>\n",
       "      <th>2021-07-01 04:00:00+00:00</th>\n",
       "      <td>86.342329</td>\n",
       "      <td>86.550407</td>\n",
       "      <td>3.657671</td>\n",
       "      <td>3.449593</td>\n",
       "      <td>55.895646</td>\n",
       "      <td>-3.849214</td>\n",
       "    </tr>\n",
       "  </tbody>\n",
       "</table>\n",
       "</div>"
      ],
      "text/plain": [
       "                           apparent_zenith      zenith  apparent_elevation  \\\n",
       "2021-07-01 00:00:00+00:00       104.846052  104.846052          -14.846052   \n",
       "2021-07-01 01:00:00+00:00       103.112107  103.112107          -13.112107   \n",
       "2021-07-01 02:00:00+00:00        99.263802   99.263802           -9.263802   \n",
       "2021-07-01 03:00:00+00:00        93.616677   93.616677           -3.616677   \n",
       "2021-07-01 04:00:00+00:00        86.342329   86.550407            3.657671   \n",
       "\n",
       "                           elevation    azimuth  equation_of_time  \n",
       "2021-07-01 00:00:00+00:00 -14.846052   3.778868         -3.817087  \n",
       "2021-07-01 01:00:00+00:00 -13.112107  17.878551         -3.825129  \n",
       "2021-07-01 02:00:00+00:00  -9.263802  31.380446         -3.833164  \n",
       "2021-07-01 03:00:00+00:00  -3.616677  44.046233         -3.841192  \n",
       "2021-07-01 04:00:00+00:00   3.449593  55.895646         -3.849214  "
      ]
     },
     "execution_count": 8,
     "metadata": {},
     "output_type": "execute_result"
    }
   ],
   "source": [
    "# Define a pvlib location object for the site\n",
    "location = pvlib.location.Location(latitude=51.9711, longitude=4.9267, altitude=0, name='Cabauw')\n",
    "\n",
    "# Calculate the solar position for each index in the datarame for the specific location\n",
    "solpos = location.get_solarposition(df.index)\n",
    "\n",
    "# Let's have a look to the output\n",
    "solpos.head()"
   ]
  },
  {
   "cell_type": "markdown",
   "metadata": {},
   "source": [
    "## DISC model\n",
    "\n",
    "The DISC model (Maxwell, 1987) requires the following inputs: GHI, solar zenith angle, and the atmospheric pressure, which is used to estimate the absolute (pressure-corrected) airmass."
   ]
  },
  {
   "cell_type": "code",
   "execution_count": 9,
   "metadata": {},
   "outputs": [],
   "source": [
    "# DISC method estimated with absolute airmass as input\n",
    "disc = pvlib.irradiance.disc(\n",
    "    ghi=df['ghi'],\n",
    "    solar_zenith=solpos['apparent_zenith'],\n",
    "    datetime_or_doy=df.index,\n",
    "    pressure=df['pressure']*100) # Site pressure in Pascal"
   ]
  },
  {
   "cell_type": "markdown",
   "metadata": {},
   "source": [
    "The functoin returns the DNI, the clearness index ($k_t$) and the airmass estimation:"
   ]
  },
  {
   "cell_type": "code",
   "execution_count": 10,
   "metadata": {},
   "outputs": [
    {
     "data": {
      "text/plain": [
       "Index(['dni', 'kt', 'airmass'], dtype='object')"
      ]
     },
     "execution_count": 10,
     "metadata": {},
     "output_type": "execute_result"
    }
   ],
   "source": [
    "disc.columns"
   ]
  },
  {
   "cell_type": "markdown",
   "metadata": {},
   "source": [
    "## DIRINT model\n",
    "\n",
    "The DIRINT model (Pérez et al., 1992) has also already been implemented pvlib-python. The model requires the following inputs: GHI, solar zenith angle, atmospheric pressure, and dew (wet-bulb) temperature."
   ]
  },
  {
   "cell_type": "code",
   "execution_count": 11,
   "metadata": {},
   "outputs": [],
   "source": [
    "# Estimation of the DIRINT model\n",
    "dirint = pvlib.irradiance.dirint(\n",
    "    ghi=df['ghi'],\n",
    "    solar_zenith=solpos['apparent_zenith'],\n",
    "    times=df.index,\n",
    "    pressure=df['pressure']*100, # atmospheric pressure in Pascal \n",
    "    temp_dew=df['temp_dew']) # Dew temperature in Degree Celsius"
   ]
  },
  {
   "cell_type": "markdown",
   "metadata": {},
   "source": [
    "## Erbs model\n",
    "\n",
    "The Erbs model (Erbs et al., 1982) is a simple model that only requires GHI and the solar position through the solar zenith angle. This model is also available in pvlib and the implementation is equally straight-forward:"
   ]
  },
  {
   "cell_type": "code",
   "execution_count": 12,
   "metadata": {},
   "outputs": [
    {
     "data": {
      "text/plain": [
       "Index(['dni', 'dhi', 'kt'], dtype='object')"
      ]
     },
     "execution_count": 12,
     "metadata": {},
     "output_type": "execute_result"
    }
   ],
   "source": [
    "erbs = pvlib.irradiance.erbs(\n",
    "    ghi=df['ghi'],\n",
    "    zenith=solpos['apparent_zenith'],\n",
    "    datetime_or_doy=df.index)\n",
    "\n",
    "erbs.columns"
   ]
  },
  {
   "cell_type": "markdown",
   "metadata": {},
   "source": [
    "## Comparison and evaluation of decomposition models\n",
    "\n",
    "Once the 3 models are estimated, we can evaluate the results of the models against the actual DNI measurements available. For example, below we visualize the results of the models a single day and 1 week in July:\n"
   ]
  },
  {
   "cell_type": "code",
   "execution_count": 13,
   "metadata": {},
   "outputs": [
    {
     "data": {
      "text/plain": [
       "<matplotlib.legend.Legend at 0x114e4df9eb0>"
      ]
     },
     "execution_count": 13,
     "metadata": {},
     "output_type": "execute_result"
    },
    {
     "data": {
      "image/png": "[encoded data removed]",
      "text/plain": [
       "<Figure size 432x288 with 1 Axes>"
      ]
     },
     "metadata": {
      "needs_background": "light"
     },
     "output_type": "display_data"
    }
   ],
   "source": [
    "# Plot of models for a single day\n",
    "date = '2021-07-18'\n",
    "\n",
    "disc.loc[date, 'dni'].plot(label='DISC', alpha=0.5) # format of date YYYYMMDD\n",
    "dirint.loc[date].plot(label='DIRINT', alpha=0.5)\n",
    "erbs.loc[date, 'dni'].plot(label='Erbs', alpha=0.5)\n",
    "df.loc[date, 'dni'].plot(label='Reference')\n",
    "\n",
    "plt.ylim(0,1200)\n",
    "plt.ylabel('Direct Normal Irradiance [W/m$^2$]')\n",
    "plt.xlabel('Time [HH:MM]')\n",
    "plt.title('Comparison of decomposition models\\n(July 18th 2021)')\n",
    "plt.legend(loc='upper left')"
   ]
  },
  {
   "cell_type": "code",
   "execution_count": 14,
   "metadata": {
    "tags": [
     "hide-cell"
    ]
   },
   "outputs": [
    {
     "data": {
      "text/plain": [
       "<matplotlib.legend.Legend at 0x114e50a3fd0>"
      ]
     },
     "execution_count": 14,
     "metadata": {},
     "output_type": "execute_result"
    },
    {
     "data": {
      "image/png": "[encoded data removed]",
      "text/plain": [
       "<Figure size 432x288 with 1 Axes>"
      ]
     },
     "metadata": {
      "needs_background": "light"
     },
     "output_type": "display_data"
    }
   ],
   "source": [
    "# Plot of models for several days on an hourly basis\n",
    "disc.loc['20210709':'20210718', 'dni'].resample('1h').mean().plot(label='DISC', alpha=0.5) # format of date YYYYMMDD\n",
    "dirint.loc['20210709':'20210718'].resample('1h').mean().plot(label='DIRINT', alpha=0.5)\n",
    "erbs.loc['20210709':'20210718', 'dni'].resample('1h').mean().plot(label='Erbs', alpha=0.5)\n",
    "df.loc['20210709':'20210718', 'dni'].resample('1h').mean().plot(label='Reference')\n",
    "\n",
    "plt.ylim(0,1200)\n",
    "plt.ylabel('Direct Normal Irradiance [W/m$^2$]')\n",
    "plt.title('Comparison of decomposition on an hourly basis\\n (9th-18th July 2021)')\n",
    "plt.legend(ncol=4)"
   ]
  },
  {
   "cell_type": "markdown",
   "metadata": {},
   "source": [
    "The correlation between the obtained models and the measured observations can be also presented in **scatter plots**:"
   ]
  },
  {
   "cell_type": "code",
   "execution_count": 21,
   "metadata": {},
   "outputs": [
    {
     "data": {
      "image/png": "[encoded data removed]",
      "text/plain": [
       "<Figure size 1080x432 with 3 Axes>"
      ]
     },
     "metadata": {},
     "output_type": "display_data"
    }
   ],
   "source": [
    "# Create multiple plots\n",
    "fig, axes = plt.subplots(1,3, figsize=(15, 6), facecolor='w', edgecolor='k', sharey=True)\n",
    "\n",
    "# Plot\n",
    "axes[0].scatter(df['dni'], dirint, s=4, c='k')\n",
    "axes[1].scatter(df['dni'], disc['dni'], s=4, c='k')\n",
    "axes[2].scatter(df['dni'], erbs['dni'], s=4, c='k')\n",
    "\n",
    "# Add characteristics to each subplot in a loop\n",
    "axes[0].set_ylabel('Modelled DNI [W/m$^2$]')\n",
    "axes[0].set_ylim(0, 1100)\n",
    "\n",
    "for ax, model in zip(axes, ['DIRINT', 'DISC', 'ERBS']):\n",
    "    ax.set_xlim(0, 1100)\n",
    "    ax.set_title(model)\n",
    "    ax.set_xlabel('Observed DNI [W/m$^2$]')\n",
    "\n",
    "plt.tight_layout()\n",
    "plt.show()"
   ]
  },
  {
   "cell_type": "markdown",
   "metadata": {},
   "source": [
    "The evaluation cannot be only based on a visual inspection. For solar resource assessment, there are a number of common metrics to evaluate the error and performance, which we will use below. These metrics are the mean bias error (MBE) and the root mean square error (RMSE). The MBE is the average error representing a systematic error to under- or overestimate and the RMSE is a measure of the dispersion of the deviations.\n",
    "\n",
    "$$ MBE = \\frac{1}{n} \\sum_{i=1}^{n} M_i - O_i $$\n",
    "\n",
    "$$ RMSE = \\sqrt{\\frac{1}{n}\\sum_{i=1}^{n}{(M_i - O_i)^2}}$$\n",
    "\n",
    "where $n$ is the size of the sample or dataset, $M_i$ is each of the predicted values and $O_i$ are the observed or true values. In Python, each of these evaluation metrics can be defined as function.\n"
   ]
  },
  {
   "cell_type": "code",
   "execution_count": 16,
   "metadata": {},
   "outputs": [],
   "source": [
    "# Mean Bias Error\n",
    "def mbe(predictions, observed):\n",
    "    return (predictions - observed).mean()\n",
    "\n",
    "# Root Mean Square Error \n",
    "def rmse(predictions, observed):\n",
    "    return np.sqrt(((predictions - observed)**2).mean())"
   ]
  },
  {
   "cell_type": "markdown",
   "metadata": {},
   "source": [
    "The performance metrics for DNI estimations can be obtained using these functions. \n",
    "\n",
    "For the DISC method:"
   ]
  },
  {
   "cell_type": "code",
   "execution_count": 17,
   "metadata": {},
   "outputs": [
    {
     "name": "stdout",
     "output_type": "stream",
     "text": [
      "DISC Decomposition Method:\n",
      "MBE 22.57 W/m²\n",
      "RMSE 124.58 W/m²\n"
     ]
    }
   ],
   "source": [
    "mbe_disc = mbe(disc['dni'], df['dni'])\n",
    "rmse_disc = rmse(disc['dni'], df['dni'])\n",
    "\n",
    "print(\"DISC Decomposition Method:\")\n",
    "print(\"MBE \" + \"%.2f\" % mbe_disc + \" W/m\\u00b2\")\n",
    "print(\"RMSE \" + \"%.2f\" % rmse_disc + \" W/m\\u00b2\")"
   ]
  },
  {
   "cell_type": "markdown",
   "metadata": {},
   "source": [
    "For the DIRINT method:"
   ]
  },
  {
   "cell_type": "code",
   "execution_count": 18,
   "metadata": {},
   "outputs": [
    {
     "name": "stdout",
     "output_type": "stream",
     "text": [
      "DIRINT Decomposition Method:\n",
      "MBE 8.01 W/m²\n",
      "RMSE 122.37 W/m²\n"
     ]
    }
   ],
   "source": [
    "mbe_dirint = mbe(dirint, df['dni'])\n",
    "rmse_dirint = rmse(dirint, df['dni'])\n",
    "\n",
    "print(\"DIRINT Decomposition Method:\")\n",
    "print(\"MBE \" + \"%.2f\" % mbe_dirint + \" W/m\\u00b2\")\n",
    "print(\"RMSE \" + \"%.2f\" % rmse_dirint + \" W/m\\u00b2\")"
   ]
  },
  {
   "cell_type": "markdown",
   "metadata": {},
   "source": [
    "For the Erbs method:"
   ]
  },
  {
   "cell_type": "code",
   "execution_count": 19,
   "metadata": {},
   "outputs": [
    {
     "name": "stdout",
     "output_type": "stream",
     "text": [
      "Erbs Decomposition Method:\n",
      "MBE 25.89 W/m²\n",
      "RMSE 138.94 W/m²\n"
     ]
    }
   ],
   "source": [
    "mbe_erbs = mbe(erbs['dni'], df['dni'])\n",
    "rmse_erbs = rmse(erbs['dni'], df['dni'])\n",
    "\n",
    "print(\"Erbs Decomposition Method:\")\n",
    "print(\"MBE \" + \"%.2f\" % mbe_erbs + \" W/m\\u00b2\")\n",
    "print(\"RMSE \" + \"%.2f\" % rmse_erbs + \" W/m\\u00b2\")"
   ]
  },
  {
   "cell_type": "markdown",
   "metadata": {},
   "source": [
    "The performance metrics show that, in this example, the Erbs method reports the lowest error metrics, closely followed by the DISC and the DIRINT methods, respectively."
   ]
  },
  {
   "cell_type": "markdown",
   "metadata": {},
   "source": [
    "## Section summary\n",
    "\n",
    "This section has presented the solar radiation decomposition methods, which are a common type of technique to estimate the direct normal or beam irradiance from global horizontal irradiance observations. Particularly, the following examples have been covered: <br>\n",
    "- The Python implementation of three solar radiation decomposition methods have been presented using real data, namely the models used are the DISC, DIRINT and Erbs models. <br>\n",
    "- Time-series visualization and scatter plots have been introduced to evaluate differences in the models. <br>\n",
    "- Two common error metrics to evaluate the performance, i.e. MBE and RMSE, have been introduced. <br>\n",
    "\n",
    "Within solar resource assessment, decomposition methods are used as means to estimate the direct irradiance or irradiation for further analysis in particular applications. For example, in solar concentrating power where direct irradiance is essential for power generation availability. There are multiple decomposition methods available in the literature. However, the Python functions for these 3 methods are available in the Python library *pvlib*.\n",
    "\n",
    "***\n",
    "\n",
    "## References\n",
    "\n",
    "Andreas, A., and Wilcox, S., (2010). 'Observed atmospheric and solar information system (OASIS)', Tucson, Arizona (Data), NREL Report No. DA-5500-56494. http://dx.doi.org/10.5439/1052226\n",
    "\n",
    "Erbs, D. G., Klein, S. A., and Duffie, J. A., (1982). 'Estimation of the diffuse radiation fraction for hourly, daily and monthly-average global radiation', Solar Energy 28(4), pp 293-302.\n",
    "\n",
    "Gueymard, C. A and Ruiz-Arias, J. A., (2016). 'Extensive worldwide validation and climate sensitivity analysis of direct irradiance predictions from 1-min global irradiance', Solar Energy 128, pp 1-30.\n",
    "\n",
    "Lawrence, M. G. (2005). 'The relationship between relative humidity and the dewpoint temperature in moist air: A simple conversion and applications', Bulletin of the American Meteorological Society, 86(2), pp. 225-234. https://doi.org/10.1175/BAMS-86-2-225\n",
    "\n",
    "Maxwell, E. L., (1987). 'A quasi-physical model for converting hourly global horizontal to direct normal insolation', Technical Report No. SERI/TR-215-3087, Golden, CO: Solar Energy Research Institute.\n",
    "\n",
    "Perez, R., Ineichen, P., Maxwell, E.,  Seals, R., and Zelenka, A., (1992). 'Dynamic global-to-direct irradiance conversion models'. ASHRAE Transactions-Research Series, pp. 354-369"
   ]
  },
  {
   "cell_type": "code",
   "execution_count": null,
   "metadata": {},
   "outputs": [],
   "source": []
  }
 ],
 "metadata": {
  "kernelspec": {
   "display_name": "Python 3",
   "language": "python",
   "name": "python3"
  },
  "language_info": {
   "codemirror_mode": {
    "name": "ipython",
    "version": 3
   },
   "file_extension": ".py",
   "mimetype": "text/x-python",
   "name": "python",
   "nbconvert_exporter": "python",
   "pygments_lexer": "ipython3",
   "version": "3.8.5"
  }
 },
 "nbformat": 4,
 "nbformat_minor": 5
}

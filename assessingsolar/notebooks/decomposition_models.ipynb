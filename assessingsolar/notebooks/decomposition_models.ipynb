{
 "cells": [
  {
   "cell_type": "markdown",
   "id": "f77e2e5e",
   "metadata": {},
   "source": [
    "# Solar Decomposition Models\n",
    "\n",
    "Knowing the direct or beam normal irradiance (DNI) is useful for many solar and energy applications, e.g., calculating the yield of solar concetrating power systems or determining the irradiance on an inclined surface. However, often only global horizontal irradiance (GHI) is available, as it is much cheaper to measure than the individual components and most satelitte radiation models only calculate GHI. Many applications, therefore, require applying **solar radiation decomposition models** to obtain the direct beam irradiance. The majority of decomposition models work by applying an empirical correlations between GHI, diffuse horizontal irradiance (DHI) and DNI. In this section, we present the implementation in Python of several solar decomposition models. \n",
    "\n",
    "***\n",
    "<div style=\"text-align: right\"> <i>Content by Javier Lopez Lorente and Adam R. Jensen</i> </div>\n"
   ]
  },
  {
   "cell_type": "markdown",
   "id": "c349c5fe",
   "metadata": {},
   "source": [
    "## The role of solar decomposition models\n",
    "\n",
    "Solar decomposition models are some of the most frequently used algorithms, and are often used during the first part of a larger analysis. As described earlier, decomposition models permit estimating the beam or direct normal irradiance (DNI) from GHI measurements, often using relationships between the clearness index ($k_t$) and the diffuse fraction of solar irradiance ($k_d$). The clearness index is defined as:\n",
    "\n",
    "$$ k_t = \\frac{GHI}{E_a \\cdot cos(\\theta_Z)}$$\n",
    "\n",
    "where $E_a$ is the extraterrestrial irradiance, and $\\theta_Z$ is the solar zenith angle. \n",
    "\n",
    "The diffuse fraction is defined as: \n",
    "\n",
    "$$ k_d = \\frac{DHI}{GHI} $$\n",
    "\n",
    "The role of decomposition models can be graphically illustrated in the diagram below:\n",
    "\n",
    "```{image} ../notebooks/graphics/decomposition_models.png\n",
    ":alt: decomposition_flowchart\n",
    ":class: bg-white mb-1\n",
    ":width: 500px\n",
    ":align: center\n",
    "```\n"
   ]
  },
  {
   "cell_type": "markdown",
   "id": "e03414bf",
   "metadata": {},
   "source": [
    "Multiple models have been proposed for the decomposition of global horizontal radiation/irradiance into its direct normal and diffuse horizontal components in the scientific literature. Below, the implementation in Python of some of these methods will be shown. The following methods will be modelled and compared:\n",
    "- DISC model (Maxwell, 1987)\n",
    "- DIRINT model (Pérez et al., 1992)\n",
    "- DIRINDEX model (Pérez et al., 2002)\n",
    "- Erbs model (Erbs et al., 1982)\n",
    "\n",
    "The four decomposition models, among some others, are implemented in the open-source library [pvlib python](https://pvlib-python.readthedocs.io/en/stable/api.html#dni-estimation-models).\n",
    "\n",
    "Before applying the models in practice, an example irradiance data set will be retrieved."
   ]
  },
  {
   "cell_type": "markdown",
   "id": "da7971ff",
   "metadata": {},
   "source": [
    "## Data preparation\n",
    "\n",
    "To illustrate the implementation of each of these models, we will use real irradiance observations. The decomposition models will be used to calculate DNI and DIh from measured GHI, and the results will then be compared to measurements of DNI and DHI. The first step is getting and preparing the measurement data to be used."
   ]
  },
  {
   "cell_type": "code",
   "execution_count": 1,
   "id": "c9acfda5",
   "metadata": {},
   "outputs": [],
   "source": [
    "# Import all the necessary libraries\n",
    "import numpy as np\n",
    "import pandas as pd\n",
    "import matplotlib.pyplot as plt\n",
    "import pvlib"
   ]
  },
  {
   "cell_type": "markdown",
   "id": "ec93ecdf",
   "metadata": {},
   "source": [
    "### Retrieving weather data\n",
    "\n",
    "The irradiance data used is from the [BSRN](https://bsrn.awi.de/) Cabauw station operated by the Royal Netherlands Meteorological Institute (KNMI). The data is retrieved from the BSRN FTP server using the `get_bsrn` function from pvlib-python. The Cabauw station is located at latitude 51.9711° and longitude 4.9267°, at an elevation of 0 m AMSL. The reason for choosing the Cabauw station is that the data has already been extensively quality checked, hence in this example this step is skipped. The data used are 1-minute global, direct, and diffuse irradiance measurements between January and July 2021, which are resampled to hourly observations."
   ]
  },
  {
   "cell_type": "code",
   "execution_count": 2,
   "id": "e3fbf2c9",
   "metadata": {
    "tags": [
     "remove-cell"
    ]
   },
   "outputs": [],
   "source": [
    "# Load the BSRN credentials from the Secret environment variables\n",
    "# This cell is hidden in the displayed notebook\n",
    "import os\n",
    "#bsrn_username = os.environ[\"BSRN_FTP_USERNAME\"]\n",
    "#bsrn_password = os.environ[\"BSRN_FTP_PASSWORD\"]\n",
    "bsrn_username = 'bsrnftp'\n",
    "bsrn_password = 'bsrn1'\n",
    "sodapro_username = 'assessingsolar@gmail.com'"
   ]
  },
  {
   "cell_type": "code",
   "execution_count": 3,
   "id": "7f322efe",
   "metadata": {},
   "outputs": [
    {
     "data": {
      "text/html": [
       "<div>\n",
       "<style scoped>\n",
       "    .dataframe tbody tr th:only-of-type {\n",
       "        vertical-align: middle;\n",
       "    }\n",
       "\n",
       "    .dataframe tbody tr th {\n",
       "        vertical-align: top;\n",
       "    }\n",
       "\n",
       "    .dataframe thead th {\n",
       "        text-align: right;\n",
       "    }\n",
       "</style>\n",
       "<table border=\"1\" class=\"dataframe\">\n",
       "  <thead>\n",
       "    <tr style=\"text-align: right;\">\n",
       "      <th></th>\n",
       "      <th>ghi</th>\n",
       "      <th>ghi_std</th>\n",
       "      <th>ghi_min</th>\n",
       "      <th>ghi_max</th>\n",
       "      <th>dni</th>\n",
       "      <th>dni_std</th>\n",
       "      <th>dni_min</th>\n",
       "      <th>dni_max</th>\n",
       "      <th>dhi</th>\n",
       "      <th>dhi_std</th>\n",
       "      <th>dhi_min</th>\n",
       "      <th>dhi_max</th>\n",
       "      <th>lwd</th>\n",
       "      <th>lwd_std</th>\n",
       "      <th>lwd_min</th>\n",
       "      <th>lwd_max</th>\n",
       "      <th>temp_air</th>\n",
       "      <th>relative_humidity</th>\n",
       "      <th>pressure</th>\n",
       "    </tr>\n",
       "  </thead>\n",
       "  <tbody>\n",
       "    <tr>\n",
       "      <th>2021-01-01 00:00:00+00:00</th>\n",
       "      <td>-1.150000</td>\n",
       "      <td>0.076667</td>\n",
       "      <td>-1.366667</td>\n",
       "      <td>-1.033333</td>\n",
       "      <td>1.000000</td>\n",
       "      <td>0.008333</td>\n",
       "      <td>1.000000</td>\n",
       "      <td>1.133333</td>\n",
       "      <td>-1.000000</td>\n",
       "      <td>0.050000</td>\n",
       "      <td>-1.000000</td>\n",
       "      <td>-1.000000</td>\n",
       "      <td>242.133333</td>\n",
       "      <td>0.288333</td>\n",
       "      <td>241.666667</td>\n",
       "      <td>242.633333</td>\n",
       "      <td>-1.531667</td>\n",
       "      <td>99.360000</td>\n",
       "      <td>1006.000000</td>\n",
       "    </tr>\n",
       "    <tr>\n",
       "      <th>2021-01-01 01:00:00+00:00</th>\n",
       "      <td>-1.000000</td>\n",
       "      <td>0.078333</td>\n",
       "      <td>-1.000000</td>\n",
       "      <td>-1.000000</td>\n",
       "      <td>1.150000</td>\n",
       "      <td>0.005000</td>\n",
       "      <td>1.050000</td>\n",
       "      <td>1.550000</td>\n",
       "      <td>-1.000000</td>\n",
       "      <td>0.051667</td>\n",
       "      <td>-1.000000</td>\n",
       "      <td>-1.000000</td>\n",
       "      <td>243.666667</td>\n",
       "      <td>0.253333</td>\n",
       "      <td>243.216667</td>\n",
       "      <td>244.100000</td>\n",
       "      <td>-2.320000</td>\n",
       "      <td>98.990000</td>\n",
       "      <td>1006.000000</td>\n",
       "    </tr>\n",
       "    <tr>\n",
       "      <th>2021-01-01 02:00:00+00:00</th>\n",
       "      <td>-1.000000</td>\n",
       "      <td>0.081667</td>\n",
       "      <td>-1.016667</td>\n",
       "      <td>-0.900000</td>\n",
       "      <td>1.266667</td>\n",
       "      <td>0.016667</td>\n",
       "      <td>1.050000</td>\n",
       "      <td>1.516667</td>\n",
       "      <td>-0.600000</td>\n",
       "      <td>0.051667</td>\n",
       "      <td>-0.683333</td>\n",
       "      <td>-0.500000</td>\n",
       "      <td>265.950000</td>\n",
       "      <td>0.603333</td>\n",
       "      <td>264.983333</td>\n",
       "      <td>267.066667</td>\n",
       "      <td>-0.808333</td>\n",
       "      <td>98.183333</td>\n",
       "      <td>1006.066667</td>\n",
       "    </tr>\n",
       "    <tr>\n",
       "      <th>2021-01-01 03:00:00+00:00</th>\n",
       "      <td>-1.000000</td>\n",
       "      <td>0.075000</td>\n",
       "      <td>-1.000000</td>\n",
       "      <td>-1.000000</td>\n",
       "      <td>1.583333</td>\n",
       "      <td>0.006667</td>\n",
       "      <td>1.383333</td>\n",
       "      <td>1.616667</td>\n",
       "      <td>-0.533333</td>\n",
       "      <td>0.065000</td>\n",
       "      <td>-0.833333</td>\n",
       "      <td>-0.333333</td>\n",
       "      <td>271.800000</td>\n",
       "      <td>0.578333</td>\n",
       "      <td>270.800000</td>\n",
       "      <td>272.733333</td>\n",
       "      <td>-0.930000</td>\n",
       "      <td>98.736667</td>\n",
       "      <td>1006.216667</td>\n",
       "    </tr>\n",
       "    <tr>\n",
       "      <th>2021-01-01 04:00:00+00:00</th>\n",
       "      <td>-0.966667</td>\n",
       "      <td>0.076667</td>\n",
       "      <td>-1.000000</td>\n",
       "      <td>-0.850000</td>\n",
       "      <td>1.316667</td>\n",
       "      <td>0.005000</td>\n",
       "      <td>1.233333</td>\n",
       "      <td>1.500000</td>\n",
       "      <td>0.000000</td>\n",
       "      <td>0.061667</td>\n",
       "      <td>-0.350000</td>\n",
       "      <td>0.000000</td>\n",
       "      <td>291.933333</td>\n",
       "      <td>0.231667</td>\n",
       "      <td>291.500000</td>\n",
       "      <td>292.266667</td>\n",
       "      <td>-0.171667</td>\n",
       "      <td>97.960000</td>\n",
       "      <td>1006.050000</td>\n",
       "    </tr>\n",
       "  </tbody>\n",
       "</table>\n",
       "</div>"
      ],
      "text/plain": [
       "                                ghi   ghi_std   ghi_min   ghi_max       dni  \\\n",
       "2021-01-01 00:00:00+00:00 -1.150000  0.076667 -1.366667 -1.033333  1.000000   \n",
       "2021-01-01 01:00:00+00:00 -1.000000  0.078333 -1.000000 -1.000000  1.150000   \n",
       "2021-01-01 02:00:00+00:00 -1.000000  0.081667 -1.016667 -0.900000  1.266667   \n",
       "2021-01-01 03:00:00+00:00 -1.000000  0.075000 -1.000000 -1.000000  1.583333   \n",
       "2021-01-01 04:00:00+00:00 -0.966667  0.076667 -1.000000 -0.850000  1.316667   \n",
       "\n",
       "                            dni_std   dni_min   dni_max       dhi   dhi_std  \\\n",
       "2021-01-01 00:00:00+00:00  0.008333  1.000000  1.133333 -1.000000  0.050000   \n",
       "2021-01-01 01:00:00+00:00  0.005000  1.050000  1.550000 -1.000000  0.051667   \n",
       "2021-01-01 02:00:00+00:00  0.016667  1.050000  1.516667 -0.600000  0.051667   \n",
       "2021-01-01 03:00:00+00:00  0.006667  1.383333  1.616667 -0.533333  0.065000   \n",
       "2021-01-01 04:00:00+00:00  0.005000  1.233333  1.500000  0.000000  0.061667   \n",
       "\n",
       "                            dhi_min   dhi_max         lwd   lwd_std  \\\n",
       "2021-01-01 00:00:00+00:00 -1.000000 -1.000000  242.133333  0.288333   \n",
       "2021-01-01 01:00:00+00:00 -1.000000 -1.000000  243.666667  0.253333   \n",
       "2021-01-01 02:00:00+00:00 -0.683333 -0.500000  265.950000  0.603333   \n",
       "2021-01-01 03:00:00+00:00 -0.833333 -0.333333  271.800000  0.578333   \n",
       "2021-01-01 04:00:00+00:00 -0.350000  0.000000  291.933333  0.231667   \n",
       "\n",
       "                              lwd_min     lwd_max  temp_air  \\\n",
       "2021-01-01 00:00:00+00:00  241.666667  242.633333 -1.531667   \n",
       "2021-01-01 01:00:00+00:00  243.216667  244.100000 -2.320000   \n",
       "2021-01-01 02:00:00+00:00  264.983333  267.066667 -0.808333   \n",
       "2021-01-01 03:00:00+00:00  270.800000  272.733333 -0.930000   \n",
       "2021-01-01 04:00:00+00:00  291.500000  292.266667 -0.171667   \n",
       "\n",
       "                           relative_humidity     pressure  \n",
       "2021-01-01 00:00:00+00:00          99.360000  1006.000000  \n",
       "2021-01-01 01:00:00+00:00          98.990000  1006.000000  \n",
       "2021-01-01 02:00:00+00:00          98.183333  1006.066667  \n",
       "2021-01-01 03:00:00+00:00          98.736667  1006.216667  \n",
       "2021-01-01 04:00:00+00:00          97.960000  1006.050000  "
      ]
     },
     "execution_count": 3,
     "metadata": {},
     "output_type": "execute_result"
    }
   ],
   "source": [
    "# Retrieving the measurement data\n",
    "df, meta = pvlib.iotools.get_bsrn(\n",
    "    station='CAB',\n",
    "    start=pd.Timestamp('2021-01-01'),\n",
    "    end=pd.Timestamp('2021-07-31'),\n",
    "    username=bsrn_username,\n",
    "    password=bsrn_password)\n",
    "\n",
    "# Resample the 1-minute data to hourly\n",
    "df = df.resample('1h').mean()\n",
    "\n",
    "# Display the first five rows of the dataset\n",
    "df.head()"
   ]
  },
  {
   "cell_type": "markdown",
   "id": "5c028e80",
   "metadata": {},
   "source": [
    "Besides GHI, DNI and DHI, this station has additional weather-related variables available (e.g., air temperature, humidity, and wind speed), as well as sensor-specific data. The details of the sensors and measurements available in each station can be found under the section \"Instrument history and meta data\" of each MIDC's station webpage. \n",
    "\n",
    "Let's list the variables available and then subset those that we will use in this example:"
   ]
  },
  {
   "cell_type": "code",
   "execution_count": 4,
   "id": "079596f1",
   "metadata": {},
   "outputs": [
    {
     "data": {
      "text/plain": [
       "Index(['ghi', 'ghi_std', 'ghi_min', 'ghi_max', 'dni', 'dni_std', 'dni_min',\n",
       "       'dni_max', 'dhi', 'dhi_std', 'dhi_min', 'dhi_max', 'lwd', 'lwd_std',\n",
       "       'lwd_min', 'lwd_max', 'temp_air', 'relative_humidity', 'pressure'],\n",
       "      dtype='object')"
      ]
     },
     "execution_count": 4,
     "metadata": {},
     "output_type": "execute_result"
    }
   ],
   "source": [
    "# Visualize variables avilable\n",
    "df.columns"
   ]
  },
  {
   "cell_type": "markdown",
   "id": "1b51487e",
   "metadata": {},
   "source": [
    "It is often helpful to visualize the data in order to check that the measurements are within the expected ones. For example, a plot for a single day (18th July 2021):"
   ]
  },
  {
   "cell_type": "code",
   "execution_count": 5,
   "id": "a1edfe57",
   "metadata": {},
   "outputs": [
    {
     "data": {
      "text/plain": [
       "<matplotlib.legend.Legend at 0x17ea950d250>"
      ]
     },
     "execution_count": 5,
     "metadata": {},
     "output_type": "execute_result"
    },
    {
     "data": {
      "image/png": "[encoded data removed]",
      "text/plain": [
       "<Figure size 432x288 with 1 Axes>"
      ]
     },
     "metadata": {
      "needs_background": "light"
     },
     "output_type": "display_data"
    }
   ],
   "source": [
    "df.loc['2021-07-18', ['ghi','dhi','dni']].plot()\n",
    "plt.title('Solar irradiance components, 18th July 2021')\n",
    "plt.ylabel('Irradiance [W/m$^2$]')\n",
    "plt.legend()"
   ]
  },
  {
   "cell_type": "markdown",
   "id": "a140dcc5",
   "metadata": {},
   "source": [
    "For an overall representation of the data, it's useful to inspect the the key statistical metrics for the data:"
   ]
  },
  {
   "cell_type": "code",
   "execution_count": 6,
   "id": "f5a3bd44",
   "metadata": {},
   "outputs": [
    {
     "data": {
      "text/html": [
       "<div>\n",
       "<style scoped>\n",
       "    .dataframe tbody tr th:only-of-type {\n",
       "        vertical-align: middle;\n",
       "    }\n",
       "\n",
       "    .dataframe tbody tr th {\n",
       "        vertical-align: top;\n",
       "    }\n",
       "\n",
       "    .dataframe thead th {\n",
       "        text-align: right;\n",
       "    }\n",
       "</style>\n",
       "<table border=\"1\" class=\"dataframe\">\n",
       "  <thead>\n",
       "    <tr style=\"text-align: right;\">\n",
       "      <th></th>\n",
       "      <th>ghi</th>\n",
       "      <th>dni</th>\n",
       "      <th>dhi</th>\n",
       "      <th>temp_air</th>\n",
       "      <th>relative_humidity</th>\n",
       "      <th>pressure</th>\n",
       "    </tr>\n",
       "  </thead>\n",
       "  <tbody>\n",
       "    <tr>\n",
       "      <th>count</th>\n",
       "      <td>5088.000000</td>\n",
       "      <td>5021.000000</td>\n",
       "      <td>5006.000000</td>\n",
       "      <td>5088.000000</td>\n",
       "      <td>5088.000000</td>\n",
       "      <td>5088.000000</td>\n",
       "    </tr>\n",
       "    <tr>\n",
       "      <th>mean</th>\n",
       "      <td>150.154482</td>\n",
       "      <td>129.608143</td>\n",
       "      <td>78.730762</td>\n",
       "      <td>9.613794</td>\n",
       "      <td>81.598316</td>\n",
       "      <td>1016.147409</td>\n",
       "    </tr>\n",
       "    <tr>\n",
       "      <th>std</th>\n",
       "      <td>223.501191</td>\n",
       "      <td>244.733398</td>\n",
       "      <td>109.759797</td>\n",
       "      <td>7.098631</td>\n",
       "      <td>14.189124</td>\n",
       "      <td>10.043831</td>\n",
       "    </tr>\n",
       "    <tr>\n",
       "      <th>min</th>\n",
       "      <td>-2.033333</td>\n",
       "      <td>-0.316667</td>\n",
       "      <td>-1.827586</td>\n",
       "      <td>-8.151667</td>\n",
       "      <td>32.516667</td>\n",
       "      <td>981.450000</td>\n",
       "    </tr>\n",
       "    <tr>\n",
       "      <th>25%</th>\n",
       "      <td>-1.000000</td>\n",
       "      <td>1.000000</td>\n",
       "      <td>-0.783333</td>\n",
       "      <td>4.133750</td>\n",
       "      <td>72.566667</td>\n",
       "      <td>1009.945833</td>\n",
       "    </tr>\n",
       "    <tr>\n",
       "      <th>50%</th>\n",
       "      <td>21.075000</td>\n",
       "      <td>1.316667</td>\n",
       "      <td>18.233333</td>\n",
       "      <td>8.776667</td>\n",
       "      <td>84.843333</td>\n",
       "      <td>1016.675000</td>\n",
       "    </tr>\n",
       "    <tr>\n",
       "      <th>75%</th>\n",
       "      <td>234.120833</td>\n",
       "      <td>117.466667</td>\n",
       "      <td>125.820833</td>\n",
       "      <td>15.312083</td>\n",
       "      <td>93.289167</td>\n",
       "      <td>1023.575000</td>\n",
       "    </tr>\n",
       "    <tr>\n",
       "      <th>max</th>\n",
       "      <td>926.033333</td>\n",
       "      <td>958.500000</td>\n",
       "      <td>568.216667</td>\n",
       "      <td>29.330000</td>\n",
       "      <td>100.000000</td>\n",
       "      <td>1042.000000</td>\n",
       "    </tr>\n",
       "  </tbody>\n",
       "</table>\n",
       "</div>"
      ],
      "text/plain": [
       "               ghi          dni          dhi     temp_air  relative_humidity  \\\n",
       "count  5088.000000  5021.000000  5006.000000  5088.000000        5088.000000   \n",
       "mean    150.154482   129.608143    78.730762     9.613794          81.598316   \n",
       "std     223.501191   244.733398   109.759797     7.098631          14.189124   \n",
       "min      -2.033333    -0.316667    -1.827586    -8.151667          32.516667   \n",
       "25%      -1.000000     1.000000    -0.783333     4.133750          72.566667   \n",
       "50%      21.075000     1.316667    18.233333     8.776667          84.843333   \n",
       "75%     234.120833   117.466667   125.820833    15.312083          93.289167   \n",
       "max     926.033333   958.500000   568.216667    29.330000         100.000000   \n",
       "\n",
       "          pressure  \n",
       "count  5088.000000  \n",
       "mean   1016.147409  \n",
       "std      10.043831  \n",
       "min     981.450000  \n",
       "25%    1009.945833  \n",
       "50%    1016.675000  \n",
       "75%    1023.575000  \n",
       "max    1042.000000  "
      ]
     },
     "execution_count": 6,
     "metadata": {},
     "output_type": "execute_result"
    }
   ],
   "source": [
    "df[['ghi','dni','dhi', 'temp_air', 'relative_humidity', 'pressure']].describe()"
   ]
  },
  {
   "cell_type": "markdown",
   "id": "60df7b39",
   "metadata": {},
   "source": [
    "**Estimating other input variables:**\n",
    "\n",
    "The 3 solar decomposition models that we will implement in this section (i.e., DISC, DIRINT and Erbs models) have different inputs to be implemented. **Solar position data** is a common input for the 3 models. The DISC and DIRINT models accept as a possible input the **dew (wet-bulb) temperature** ($T_d$). This variable is not directly available from our weather observations; however, it can be easily estimated using a simple conversion that has relative humidity ($RH$) and the ambient temperature ($T_a$) as input. This simple approximation is given by the equation below (Lawrence, 2005):\n",
    "\n",
    " $$ T_{d} = T_a (^{\\circ} C) - \\frac{100-RH (\\%)}{5} $$\n",
    " \n",
    "In Python, this equation could be implemented as follows:"
   ]
  },
  {
   "cell_type": "code",
   "execution_count": 7,
   "id": "51d5ea06",
   "metadata": {},
   "outputs": [],
   "source": [
    "df['temp_dew'] = df['temp_air']-((100-df['relative_humidity'])/5)"
   ]
  },
  {
   "cell_type": "markdown",
   "id": "2df5c477",
   "metadata": {},
   "source": [
    "<br>\n",
    "\n",
    "The solar position for the entire period can be calculated using the `pvlib.solarposition.get_solarposition` function which supports a number of different solar position algorithms. The default algorithm is an implementation of the NREL SPA algorithm."
   ]
  },
  {
   "cell_type": "code",
   "execution_count": 8,
   "id": "7ab8defb",
   "metadata": {},
   "outputs": [
    {
     "data": {
      "text/html": [
       "<div>\n",
       "<style scoped>\n",
       "    .dataframe tbody tr th:only-of-type {\n",
       "        vertical-align: middle;\n",
       "    }\n",
       "\n",
       "    .dataframe tbody tr th {\n",
       "        vertical-align: top;\n",
       "    }\n",
       "\n",
       "    .dataframe thead th {\n",
       "        text-align: right;\n",
       "    }\n",
       "</style>\n",
       "<table border=\"1\" class=\"dataframe\">\n",
       "  <thead>\n",
       "    <tr style=\"text-align: right;\">\n",
       "      <th></th>\n",
       "      <th>apparent_zenith</th>\n",
       "      <th>zenith</th>\n",
       "      <th>apparent_elevation</th>\n",
       "      <th>elevation</th>\n",
       "      <th>azimuth</th>\n",
       "      <th>equation_of_time</th>\n",
       "    </tr>\n",
       "  </thead>\n",
       "  <tbody>\n",
       "    <tr>\n",
       "      <th>2021-01-01 00:00:00+00:00</th>\n",
       "      <td>149.693651</td>\n",
       "      <td>149.693651</td>\n",
       "      <td>-59.693651</td>\n",
       "      <td>-59.693651</td>\n",
       "      <td>21.451575</td>\n",
       "      <td>-3.441097</td>\n",
       "    </tr>\n",
       "    <tr>\n",
       "      <th>2021-01-01 01:00:00+00:00</th>\n",
       "      <td>144.585022</td>\n",
       "      <td>144.585022</td>\n",
       "      <td>-54.585022</td>\n",
       "      <td>-54.585022</td>\n",
       "      <td>45.257706</td>\n",
       "      <td>-3.460697</td>\n",
       "    </tr>\n",
       "    <tr>\n",
       "      <th>2021-01-01 02:00:00+00:00</th>\n",
       "      <td>137.059810</td>\n",
       "      <td>137.059810</td>\n",
       "      <td>-47.059810</td>\n",
       "      <td>-47.059810</td>\n",
       "      <td>63.685127</td>\n",
       "      <td>-3.480288</td>\n",
       "    </tr>\n",
       "    <tr>\n",
       "      <th>2021-01-01 03:00:00+00:00</th>\n",
       "      <td>128.334219</td>\n",
       "      <td>128.334219</td>\n",
       "      <td>-38.334219</td>\n",
       "      <td>-38.334219</td>\n",
       "      <td>78.296833</td>\n",
       "      <td>-3.499870</td>\n",
       "    </tr>\n",
       "    <tr>\n",
       "      <th>2021-01-01 04:00:00+00:00</th>\n",
       "      <td>119.152361</td>\n",
       "      <td>119.152361</td>\n",
       "      <td>-29.152361</td>\n",
       "      <td>-29.152361</td>\n",
       "      <td>90.721936</td>\n",
       "      <td>-3.519442</td>\n",
       "    </tr>\n",
       "  </tbody>\n",
       "</table>\n",
       "</div>"
      ],
      "text/plain": [
       "                           apparent_zenith      zenith  apparent_elevation  \\\n",
       "2021-01-01 00:00:00+00:00       149.693651  149.693651          -59.693651   \n",
       "2021-01-01 01:00:00+00:00       144.585022  144.585022          -54.585022   \n",
       "2021-01-01 02:00:00+00:00       137.059810  137.059810          -47.059810   \n",
       "2021-01-01 03:00:00+00:00       128.334219  128.334219          -38.334219   \n",
       "2021-01-01 04:00:00+00:00       119.152361  119.152361          -29.152361   \n",
       "\n",
       "                           elevation    azimuth  equation_of_time  \n",
       "2021-01-01 00:00:00+00:00 -59.693651  21.451575         -3.441097  \n",
       "2021-01-01 01:00:00+00:00 -54.585022  45.257706         -3.460697  \n",
       "2021-01-01 02:00:00+00:00 -47.059810  63.685127         -3.480288  \n",
       "2021-01-01 03:00:00+00:00 -38.334219  78.296833         -3.499870  \n",
       "2021-01-01 04:00:00+00:00 -29.152361  90.721936         -3.519442  "
      ]
     },
     "execution_count": 8,
     "metadata": {},
     "output_type": "execute_result"
    }
   ],
   "source": [
    "# Define a pvlib location object for the site\n",
    "location = pvlib.location.Location(latitude=51.9711, longitude=4.9267, altitude=0, name='Cabauw')\n",
    "\n",
    "# Calculate the solar position for each index in the datarame for the specific location\n",
    "# The 30 minute shift is applied in order to calculate the solar position at the middle of the hour!\n",
    "solpos = location.get_solarposition(df.index+pd.Timedelta(minutes=30))\n",
    "solpos.index = solpos.index - pd.Timedelta(minutes=30)\n",
    "\n",
    "# Let's have a look to the output\n",
    "solpos.head()"
   ]
  },
  {
   "cell_type": "markdown",
   "id": "30588eae",
   "metadata": {},
   "source": [
    "## DISC model\n",
    "\n",
    "The DISC model (Maxwell, 1987) requires the following inputs: GHI, solar zenith angle, and the atmospheric pressure, which is used to estimate the absolute (pressure-corrected) airmass."
   ]
  },
  {
   "cell_type": "code",
   "execution_count": 9,
   "id": "159e2691",
   "metadata": {},
   "outputs": [],
   "source": [
    "# DISC method estimated with absolute airmass as input\n",
    "disc = pvlib.irradiance.disc(\n",
    "    ghi=df['ghi'],\n",
    "    solar_zenith=solpos['apparent_zenith'],\n",
    "    datetime_or_doy=df.index,\n",
    "    pressure=df['pressure']*100) # Site pressure in Pascal"
   ]
  },
  {
   "cell_type": "markdown",
   "id": "15df0a83",
   "metadata": {},
   "source": [
    "The functoin returns the DNI, the clearness index ($k_t$) and the airmass estimation:"
   ]
  },
  {
   "cell_type": "code",
   "execution_count": 10,
   "id": "e7cec5ac",
   "metadata": {},
   "outputs": [
    {
     "data": {
      "text/plain": [
       "Index(['dni', 'kt', 'airmass'], dtype='object')"
      ]
     },
     "execution_count": 10,
     "metadata": {},
     "output_type": "execute_result"
    }
   ],
   "source": [
    "disc.columns"
   ]
  },
  {
   "cell_type": "markdown",
   "id": "6c575ce0",
   "metadata": {},
   "source": [
    "## DIRINT model\n",
    "\n",
    "An implementatin of the DIRINT model (Pérez et al., 1992)  is also available in pvlib-python. The model requires the following inputs: GHI, solar zenith angle, atmospheric pressure, and dew (wet-bulb) temperature."
   ]
  },
  {
   "cell_type": "code",
   "execution_count": 11,
   "id": "d0689dda",
   "metadata": {},
   "outputs": [],
   "source": [
    "# Estimation of the DIRINT model\n",
    "dirint = pvlib.irradiance.dirint(\n",
    "    ghi=df['ghi'],\n",
    "    solar_zenith=solpos['apparent_zenith'],\n",
    "    times=df.index,\n",
    "    pressure=df['pressure']*100, # atmospheric pressure in Pascal \n",
    "    temp_dew=df['temp_dew']) # Dew temperature in Degree Celsius"
   ]
  },
  {
   "cell_type": "markdown",
   "id": "b8131d76",
   "metadata": {},
   "source": [
    "## DIRINDEX model\n",
    "The DIRINDEX model (Pérez et al., 2002) was found to be one of the two best decomposition models in an extensive study by Gueymard and Ruiz-Arias (2016). The model is an enhancement of the DIRINT model by considering clearsky data."
   ]
  },
  {
   "cell_type": "code",
   "execution_count": 12,
   "id": "518222ec",
   "metadata": {},
   "outputs": [],
   "source": [
    "# Retrieve clear-sky irradiance from CAMS McClear\n",
    "clearsky, meta = pvlib.iotools.get_cams(\n",
    "    latitude=location.latitude,\n",
    "    longitude=location.longitude,\n",
    "    altitude=location.altitude,\n",
    "    start=df.index[0],\n",
    "    end=df.index[-1],\n",
    "    email=sodapro_username)\n",
    "\n",
    "# Estimation of the DIRINDEX model\n",
    "dirindex = pvlib.irradiance.dirindex(\n",
    "    ghi=df['ghi'],\n",
    "    ghi_clearsky=clearsky['ghi_clear'],\n",
    "    dni_clearsky=clearsky['dni_clear'],\n",
    "    zenith=solpos['zenith'],\n",
    "    times=df.index,\n",
    "    pressure=df['pressure']*100, # atmospheric pressure in Pascal \n",
    "    temp_dew=df['temp_dew']) # Dew temperature in Degree Celsius"
   ]
  },
  {
   "cell_type": "markdown",
   "id": "a67adee7",
   "metadata": {},
   "source": [
    "## Erbs model\n",
    "\n",
    "The Erbs model (Erbs et al., 1982) is a simple and very popular model that only requires GHI and the solar zenith angle. This model is also available in pvlib and the implementation is equally straight-forward:"
   ]
  },
  {
   "cell_type": "code",
   "execution_count": 13,
   "id": "3a9d9856",
   "metadata": {},
   "outputs": [
    {
     "data": {
      "text/plain": [
       "Index(['dni', 'dhi', 'kt'], dtype='object')"
      ]
     },
     "execution_count": 13,
     "metadata": {},
     "output_type": "execute_result"
    }
   ],
   "source": [
    "erbs = pvlib.irradiance.erbs(\n",
    "    ghi=df['ghi'],\n",
    "    zenith=solpos['apparent_zenith'],\n",
    "    datetime_or_doy=df.index)\n",
    "\n",
    "erbs.columns"
   ]
  },
  {
   "cell_type": "markdown",
   "id": "5d5f6aef",
   "metadata": {},
   "source": [
    "## Comparison and evaluation of decomposition models\n",
    "\n",
    "Once the 4 models are estimated, we can evaluate the results of the models against the actual DNI measurements available. For example, below we visualize the results of the models a single day and a week in July:\n"
   ]
  },
  {
   "cell_type": "code",
   "execution_count": 14,
   "id": "91ffaf95",
   "metadata": {},
   "outputs": [
    {
     "data": {
      "text/plain": [
       "<matplotlib.legend.Legend at 0x17ea2beffd0>"
      ]
     },
     "execution_count": 14,
     "metadata": {},
     "output_type": "execute_result"
    },
    {
     "data": {
      "image/png": "[encoded data removed]",
      "text/plain": [
       "<Figure size 432x288 with 1 Axes>"
      ]
     },
     "metadata": {
      "needs_background": "light"
     },
     "output_type": "display_data"
    }
   ],
   "source": [
    "# Plot of models for a single day\n",
    "date = '2021-07-18'\n",
    "\n",
    "disc.loc[date, 'dni'].plot(label='DISC', alpha=0.7)\n",
    "dirint.loc[date].plot(label='DIRINT', alpha=0.7)\n",
    "dirindex.loc[date].plot(label='DIRINDEX', alpha=0.7)\n",
    "erbs.loc[date, 'dni'].plot(label='Erbs', alpha=0.7)\n",
    "df.loc[date, 'dni'].plot(c='k', label='Reference')\n",
    "\n",
    "plt.ylim(0, 1200)\n",
    "plt.ylabel('Direct Normal Irradiance [W/m$^2$]')\n",
    "plt.xlabel('Time [HH:MM]')\n",
    "plt.title('Comparison of decomposition models\\n(July 18th 2021)')\n",
    "plt.legend(loc='upper left')"
   ]
  },
  {
   "cell_type": "code",
   "execution_count": 15,
   "id": "b8687777",
   "metadata": {
    "tags": [
     "hide-cell"
    ]
   },
   "outputs": [
    {
     "data": {
      "image/png": "[encoded data removed]",
      "text/plain": [
       "<Figure size 432x288 with 1 Axes>"
      ]
     },
     "metadata": {
      "needs_background": "light"
     },
     "output_type": "display_data"
    }
   ],
   "source": [
    "# Plot of models for several days on an hourly basis\n",
    "disc.loc['20210709':'20210718', 'dni'].resample('1h').mean().plot(label='DISC', alpha=0.5) # format of date YYYYMMDD\n",
    "dirint.loc['20210709':'20210718'].resample('1h').mean().plot(label='DIRINT', alpha=0.5)\n",
    "dirindex.loc['20210709':'20210718'].resample('1h').mean().plot(label='DIRINDEX', alpha=0.5)\n",
    "erbs.loc['20210709':'20210718', 'dni'].resample('1h').mean().plot(label='Erbs', alpha=0.5)\n",
    "df.loc['20210709':'20210718', 'dni'].resample('1h').mean().plot(label='Reference')\n",
    "\n",
    "plt.ylim(0,1200)\n",
    "plt.ylabel('Direct Normal Irradiance [W/m$^2$]')\n",
    "plt.title('Comparison of decomposition on an hourly basis\\n (9th-18th July 2021)')\n",
    "plt.legend(ncol=2, loc='upper center')\n",
    "plt.tight_layout()"
   ]
  },
  {
   "cell_type": "markdown",
   "id": "6f500289",
   "metadata": {},
   "source": [
    "The correlation between the obtained models and the measured observations can be also presented in **scatter plots**:"
   ]
  },
  {
   "cell_type": "code",
   "execution_count": 16,
   "id": "469a27dd",
   "metadata": {},
   "outputs": [
    {
     "data": {
      "image/png": "[encoded data removed]",
      "text/plain": [
       "<Figure size 1080x288 with 4 Axes>"
      ]
     },
     "metadata": {},
     "output_type": "display_data"
    }
   ],
   "source": [
    "# Create multiple plots\n",
    "fig, axes = plt.subplots(ncols=4, figsize=(15, 4), facecolor='w', edgecolor='k', sharey=True)\n",
    "\n",
    "# Plot\n",
    "axes[0].scatter(df['dni'], disc['dni'], s=4, c='k')\n",
    "axes[1].scatter(df['dni'], dirint, s=4, c='k')\n",
    "axes[2].scatter(df['dni'], dirindex, s=4, c='k')\n",
    "axes[3].scatter(df['dni'], erbs['dni'], s=4, c='k')\n",
    "\n",
    "# Add characteristics to each subplot in a loop\n",
    "axes[0].set_ylabel('Modelled DNI [W/m$^2$]')\n",
    "axes[0].set_ylim(0, 1200)\n",
    "\n",
    "for ax, model in zip(axes, ['DISC', 'DIRINT', 'DIRINDEX', 'ERBS']):\n",
    "    ax.plot([0,1200], [0,1200], c='r')\n",
    "    ax.set_xlim(0, 1200)\n",
    "    ax.set_title(model)\n",
    "    ax.set_xlabel('Observed DNI [W/m$^2$]')\n",
    "\n",
    "plt.tight_layout()\n",
    "plt.show()"
   ]
  },
  {
   "cell_type": "markdown",
   "id": "82981c78",
   "metadata": {},
   "source": [
    "The evaluation cannot be only based on a visual inspection. For solar resource assessment, there are a number of common metrics to evaluate the error and performance, which we will use below. These metrics are the mean bias error (MBE) and the root mean square error (RMSE). The MBE is the average error representing a systematic error to under- or overestimate and the RMSE is a measure of the dispersion of the deviations.\n",
    "\n",
    "$$ MBE = \\frac{1}{n} \\sum_{i=1}^{n} M_i - O_i $$\n",
    "\n",
    "$$ RMSE = \\sqrt{\\frac{1}{n}\\sum_{i=1}^{n}{(M_i - O_i)^2}}$$\n",
    "\n",
    "where $n$ is the size of the sample or dataset, $M_i$ is each of the predicted values and $O_i$ are the observed or true values. In Python, each of these evaluation metrics can be defined as function.\n"
   ]
  },
  {
   "cell_type": "code",
   "execution_count": 17,
   "id": "c28230dd",
   "metadata": {},
   "outputs": [],
   "source": [
    "# Mean Bias Error\n",
    "def mbe(predictions, observed):\n",
    "    return (predictions - observed).mean()\n",
    "\n",
    "# Root Mean Square Error \n",
    "def rmse(predictions, observed):\n",
    "    return np.sqrt(((predictions - observed)**2).mean())"
   ]
  },
  {
   "cell_type": "markdown",
   "id": "703637db",
   "metadata": {},
   "source": [
    "For the comparison of evaluation metrics, only measurement for periods where the solar elevation is greater than 5 degrees are used:"
   ]
  },
  {
   "cell_type": "code",
   "execution_count": 18,
   "id": "a98efa9d",
   "metadata": {},
   "outputs": [],
   "source": [
    "df = df[solpos['elevation']>5]\n",
    "erbs = erbs[solpos['elevation']>5]\n",
    "disc = disc[solpos['elevation']>5]\n",
    "dirint = dirint[solpos['elevation']>5]\n",
    "dirindex = dirindex[solpos['elevation']>5]"
   ]
  },
  {
   "cell_type": "markdown",
   "id": "8fd70012",
   "metadata": {},
   "source": [
    "For the DISC method:"
   ]
  },
  {
   "cell_type": "code",
   "execution_count": 19,
   "id": "9a0dddc5",
   "metadata": {},
   "outputs": [
    {
     "name": "stdout",
     "output_type": "stream",
     "text": [
      "DISC Decomposition Method:\n",
      "MBE 41.68 W/m²\n",
      "RMSE 90.00 W/m²\n"
     ]
    }
   ],
   "source": [
    "mbe_disc = mbe(disc['dni'], df['dni'])\n",
    "rmse_disc = rmse(disc['dni'], df['dni'])\n",
    "\n",
    "print(\"DISC Decomposition Method:\")\n",
    "print(\"MBE \" + \"%.2f\" % mbe_disc + \" W/m\\u00b2\")\n",
    "print(\"RMSE \" + \"%.2f\" % rmse_disc + \" W/m\\u00b2\")"
   ]
  },
  {
   "cell_type": "markdown",
   "id": "6651c943",
   "metadata": {},
   "source": [
    "For the DIRINT method:"
   ]
  },
  {
   "cell_type": "code",
   "execution_count": 20,
   "id": "f9bc2720",
   "metadata": {},
   "outputs": [
    {
     "name": "stdout",
     "output_type": "stream",
     "text": [
      "DIRINT Decomposition Method:\n",
      "MBE 18.26 W/m²\n",
      "RMSE 76.04 W/m²\n"
     ]
    }
   ],
   "source": [
    "mbe_dirint = mbe(dirint, df['dni'])\n",
    "rmse_dirint = rmse(dirint, df['dni'])\n",
    "\n",
    "print(\"DIRINT Decomposition Method:\")\n",
    "print(\"MBE \" + \"%.2f\" % mbe_dirint + \" W/m\\u00b2\")\n",
    "print(\"RMSE \" + \"%.2f\" % rmse_dirint + \" W/m\\u00b2\")"
   ]
  },
  {
   "cell_type": "markdown",
   "id": "d3d9c002",
   "metadata": {},
   "source": [
    "For the DIRINDEX method:"
   ]
  },
  {
   "cell_type": "code",
   "execution_count": 21,
   "id": "098b107c",
   "metadata": {},
   "outputs": [
    {
     "name": "stdout",
     "output_type": "stream",
     "text": [
      "DIRINDEX Decomposition Method:\n",
      "MBE -3.45 W/m²\n",
      "RMSE 68.51 W/m²\n"
     ]
    }
   ],
   "source": [
    "mbe_dirindex = mbe(dirindex, df['dni'])\n",
    "rmse_dirindex = rmse(dirindex, df['dni'])\n",
    "\n",
    "print(\"DIRINDEX Decomposition Method:\")\n",
    "print(\"MBE \" + \"%.2f\" % mbe_dirindex + \" W/m\\u00b2\")\n",
    "print(\"RMSE \" + \"%.2f\" % rmse_dirindex + \" W/m\\u00b2\")"
   ]
  },
  {
   "cell_type": "markdown",
   "id": "2887e1d8",
   "metadata": {},
   "source": [
    "For the Erbs method:"
   ]
  },
  {
   "cell_type": "code",
   "execution_count": 22,
   "id": "8c734998",
   "metadata": {},
   "outputs": [
    {
     "name": "stdout",
     "output_type": "stream",
     "text": [
      "Erbs Decomposition Method:\n",
      "MBE 14.06 W/m²\n",
      "RMSE 81.79 W/m²\n"
     ]
    }
   ],
   "source": [
    "mbe_erbs = mbe(erbs['dni'], df['dni'])\n",
    "rmse_erbs = rmse(erbs['dni'], df['dni'])\n",
    "\n",
    "print(\"Erbs Decomposition Method:\")\n",
    "print(\"MBE \" + \"%.2f\" % mbe_erbs + \" W/m\\u00b2\")\n",
    "print(\"RMSE \" + \"%.2f\" % rmse_erbs + \" W/m\\u00b2\")"
   ]
  },
  {
   "cell_type": "markdown",
   "id": "3766627b",
   "metadata": {},
   "source": [
    "The performance metrics show that, in this example, the DIRINDEX method reports the lowest error metrics, followed by the Erbs model, the DISC, and the DIRINT methods, respectively."
   ]
  },
  {
   "cell_type": "markdown",
   "id": "30273c1c",
   "metadata": {},
   "source": [
    "## Section summary\n",
    "\n",
    "This section has presented the solar radiation decomposition methods, which are a common type of technique to estimate the direct normal or beam irradiance from global horizontal irradiance observations. Particularly, the following examples have been covered: <br>\n",
    "- The Python implementation of three solar radiation decomposition methods have been presented using real data, namely the models used are the DISC, DIRINT, DIRINDEX and Erbs models. <br>\n",
    "- Time-series visualization and scatter plots have been introduced to evaluate differences in the models. <br>\n",
    "- Two common error metrics to evaluate the performance, i.e. MBE and RMSE, have been introduced. <br>\n",
    "\n",
    "Within solar resource assessment, decomposition methods are used as means to estimate the direct irradiance or irradiation for further analysis in particular applications. For example, in solar concentrating power where direct irradiance is essential for power generation availability. There are multiple decomposition methods available in the literature. However, the Python functions for these 4 methods are available in the Python library *pvlib*.\n",
    "\n",
    "***\n",
    "\n",
    "## References\n",
    "\n",
    "Andreas, A., and Wilcox, S., (2010). 'Observed atmospheric and solar information system (OASIS)', Tucson, Arizona (Data), NREL Report No. DA-5500-56494. http://dx.doi.org/10.5439/1052226\n",
    "\n",
    "Erbs, D. G., Klein, S. A., and Duffie, J. A., (1982). 'Estimation of the diffuse radiation fraction for hourly, daily and monthly-average global radiation', Solar Energy 28(4), pp 293-302.\n",
    "\n",
    "Gueymard, C. A and Ruiz-Arias, J. A., (2016). 'Extensive worldwide validation and climate sensitivity analysis of direct irradiance predictions from 1-min global irradiance', Solar Energy 128, pp 1-30. https://doi.org/10.1016/j.solener.2015.10.010\n",
    "\n",
    "Lawrence, M. G. (2005). 'The relationship between relative humidity and the dewpoint temperature in moist air: A simple conversion and applications', Bulletin of the American Meteorological Society, 86(2), pp. 225-234. https://doi.org/10.1175/BAMS-86-2-225\n",
    "\n",
    "Maxwell, E. L., (1987). 'A quasi-physical model for converting hourly global horizontal to direct normal insolation', Technical Report No. SERI/TR-215-3087, Golden, CO: Solar Energy Research Institute.\n",
    "\n",
    "Perez, R., Ineichen, P., Maxwell, E.,  Seals, R., and Zelenka, A., (1992). 'Dynamic global-to-direct irradiance conversion models'. ASHRAE Transactions-Research Series, pp. 354-369\n",
    "\n",
    "Perez, R. et al. (2002) 'A new operational model for satellite-derived irradiances: Description and validation', Solar Energy, 73(5), pp. 307–317. https://doi.org/10.1016/S0038-092X(02)00122-6"
   ]
  }
 ],
 "metadata": {
  "kernelspec": {
   "display_name": "Python 3",
   "language": "python",
   "name": "python3"
  },
  "language_info": {
   "codemirror_mode": {
    "name": "ipython",
    "version": 3
   },
   "file_extension": ".py",
   "mimetype": "text/x-python",
   "name": "python",
   "nbconvert_exporter": "python",
   "pygments_lexer": "ipython3",
   "version": "3.8.8"
  }
 },
 "nbformat": 4,
 "nbformat_minor": 5
}
